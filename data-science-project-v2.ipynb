{
 "cells": [
  {
   "cell_type": "markdown",
   "metadata": {},
   "source": [
    "# Introduction\n",
    "\n",
    "In recent years, the demand for dating apps has increased. These apps provide a huge amount of data about how people experience online romance.\n",
    "\n",
    "This project gets data from an online dating app, OKCupid, to find some interesting patterns about the online dating app community as well as create some models that may help in the matching services of the OKCupid app.\n",
    "\n",
    "# Scoping\n",
    "\n",
    "## Project Goals\n",
    "The objective of this project is to use the knowledge gained from Codecademy and apply machine learning methods to a set of data. From there, some interesting patterns and models can be investigated.\n",
    "\n",
    "Questions that will be answered in this report include:\n",
    "- **Predict \"sign\" value of user**\n",
    "- **Predict \"gender\" based on how the user write**\n",
    "\n",
    "\n",
    "## Data\n",
    "The data is stored in `profiles.csv` provided by Codecademy. Each row in the dataset equivalents to an user, and each column represents the responses to their user profiles which include multi-choice and short answer questions.\n",
    "\n",
    "## Analysis\n",
    "First, the project will use some data manipulation, data wrangling and data tidying methods to clean the data for the next steps. Then, summary statistics are applied to find some interesting patterns in side the data. Some visualizations of data will be shown in this report which gives a better representation of patterns. Some classcification and clusterings algorithms will be implemented\n",
    "\n",
    "## Evaluation\n",
    "\n",
    "A validation data set will be taken from the original data set for evaluation task of this project. The model can be evaluated through confusion matrix, or N-fold cross-validation. Some metrics such as accuracy, precision, recall, F1 \n",
    "\n",
    "\n",
    "# Coding\n",
    "## Import neccessary Python modules"
   ]
  },
  {
   "cell_type": "code",
   "execution_count": 1,
   "metadata": {
    "execution": {
     "iopub.execute_input": "2022-11-23T05:55:24.016080Z",
     "iopub.status.busy": "2022-11-23T05:55:24.015419Z",
     "iopub.status.idle": "2022-11-23T05:55:25.190536Z",
     "shell.execute_reply": "2022-11-23T05:55:25.189394Z",
     "shell.execute_reply.started": "2022-11-23T05:55:24.015970Z"
    },
    "trusted": true
   },
   "outputs": [],
   "source": [
    "import numpy as np\n",
    "import pandas as pd\n",
    "from matplotlib import pyplot as plt\n",
    "import seaborn as sns\n",
    "import re\n",
    "\n",
    "# %matplotlib inline \n",
    "#Allow you to disable interactivity with plots"
   ]
  },
  {
   "cell_type": "markdown",
   "metadata": {},
   "source": [
    "## Investigate the data"
   ]
  },
  {
   "cell_type": "code",
   "execution_count": 2,
   "metadata": {
    "execution": {
     "iopub.execute_input": "2022-11-23T05:55:25.192509Z",
     "iopub.status.busy": "2022-11-23T05:55:25.192182Z",
     "iopub.status.idle": "2022-11-23T05:55:29.424745Z",
     "shell.execute_reply": "2022-11-23T05:55:29.423490Z",
     "shell.execute_reply.started": "2022-11-23T05:55:25.192482Z"
    },
    "trusted": true
   },
   "outputs": [
    {
     "data": {
      "text/plain": "   age       body_type               diet    drinks      drugs  \\\n0   22  a little extra  strictly anything  socially      never   \n1   35         average       mostly other     often  sometimes   \n2   38            thin           anything  socially        NaN   \n3   23            thin         vegetarian  socially        NaN   \n4   29        athletic                NaN  socially      never   \n\n                           education  \\\n0      working on college/university   \n1              working on space camp   \n2     graduated from masters program   \n3      working on college/university   \n4  graduated from college/university   \n\n                                              essay0  \\\n0  about me:<br />\\n<br />\\ni would love to think...   \n1  i am a chef: this is what that means.<br />\\n1...   \n2  i'm not ashamed of much, but writing public te...   \n3          i work in a library and go to school. . .   \n4  hey how's it going? currently vague on the pro...   \n\n                                              essay1  \\\n0  currently working as an international agent fo...   \n1  dedicating everyday to being an unbelievable b...   \n2  i make nerdy software for musicians, artists, ...   \n3          reading things written by old dead people   \n4                         work work work work + play   \n\n                                              essay2  \\\n0  making people laugh.<br />\\nranting about a go...   \n1  being silly. having ridiculous amonts of fun w...   \n2  improvising in different contexts. alternating...   \n3  playing synthesizers and organizing books acco...   \n4  creating imagery to look at:<br />\\nhttp://bag...   \n\n                                              essay3  ...  \\\n0  the way i look. i am a six foot half asian, ha...  ...   \n1                                                NaN  ...   \n2  my large jaw and large glasses are the physica...  ...   \n3                  socially awkward but i do my best  ...   \n4            i smile a lot and my inquisitive nature  ...   \n\n                          location  \\\n0  south san francisco, california   \n1              oakland, california   \n2        san francisco, california   \n3             berkeley, california   \n4        san francisco, california   \n\n                                      offspring orientation  \\\n0  doesn&rsquo;t have kids, but might want them    straight   \n1  doesn&rsquo;t have kids, but might want them    straight   \n2                                           NaN    straight   \n3                       doesn&rsquo;t want kids    straight   \n4                                           NaN    straight   \n\n                        pets                                  religion sex  \\\n0  likes dogs and likes cats     agnosticism and very serious about it   m   \n1  likes dogs and likes cats  agnosticism but not too serious about it   m   \n2                   has cats                                       NaN   m   \n3                 likes cats                                       NaN   m   \n4  likes dogs and likes cats                                       NaN   m   \n\n                                 sign     smokes  \\\n0                              gemini  sometimes   \n1                              cancer         no   \n2  pisces but it doesn&rsquo;t matter         no   \n3                              pisces         no   \n4                            aquarius         no   \n\n                                              speaks     status  \n0                                            english     single  \n1  english (fluently), spanish (poorly), french (...     single  \n2                               english, french, c++  available  \n3                           english, german (poorly)     single  \n4                                            english     single  \n\n[5 rows x 31 columns]",
      "text/html": "<div>\n<style scoped>\n    .dataframe tbody tr th:only-of-type {\n        vertical-align: middle;\n    }\n\n    .dataframe tbody tr th {\n        vertical-align: top;\n    }\n\n    .dataframe thead th {\n        text-align: right;\n    }\n</style>\n<table border=\"1\" class=\"dataframe\">\n  <thead>\n    <tr style=\"text-align: right;\">\n      <th></th>\n      <th>age</th>\n      <th>body_type</th>\n      <th>diet</th>\n      <th>drinks</th>\n      <th>drugs</th>\n      <th>education</th>\n      <th>essay0</th>\n      <th>essay1</th>\n      <th>essay2</th>\n      <th>essay3</th>\n      <th>...</th>\n      <th>location</th>\n      <th>offspring</th>\n      <th>orientation</th>\n      <th>pets</th>\n      <th>religion</th>\n      <th>sex</th>\n      <th>sign</th>\n      <th>smokes</th>\n      <th>speaks</th>\n      <th>status</th>\n    </tr>\n  </thead>\n  <tbody>\n    <tr>\n      <th>0</th>\n      <td>22</td>\n      <td>a little extra</td>\n      <td>strictly anything</td>\n      <td>socially</td>\n      <td>never</td>\n      <td>working on college/university</td>\n      <td>about me:&lt;br /&gt;\\n&lt;br /&gt;\\ni would love to think...</td>\n      <td>currently working as an international agent fo...</td>\n      <td>making people laugh.&lt;br /&gt;\\nranting about a go...</td>\n      <td>the way i look. i am a six foot half asian, ha...</td>\n      <td>...</td>\n      <td>south san francisco, california</td>\n      <td>doesn&amp;rsquo;t have kids, but might want them</td>\n      <td>straight</td>\n      <td>likes dogs and likes cats</td>\n      <td>agnosticism and very serious about it</td>\n      <td>m</td>\n      <td>gemini</td>\n      <td>sometimes</td>\n      <td>english</td>\n      <td>single</td>\n    </tr>\n    <tr>\n      <th>1</th>\n      <td>35</td>\n      <td>average</td>\n      <td>mostly other</td>\n      <td>often</td>\n      <td>sometimes</td>\n      <td>working on space camp</td>\n      <td>i am a chef: this is what that means.&lt;br /&gt;\\n1...</td>\n      <td>dedicating everyday to being an unbelievable b...</td>\n      <td>being silly. having ridiculous amonts of fun w...</td>\n      <td>NaN</td>\n      <td>...</td>\n      <td>oakland, california</td>\n      <td>doesn&amp;rsquo;t have kids, but might want them</td>\n      <td>straight</td>\n      <td>likes dogs and likes cats</td>\n      <td>agnosticism but not too serious about it</td>\n      <td>m</td>\n      <td>cancer</td>\n      <td>no</td>\n      <td>english (fluently), spanish (poorly), french (...</td>\n      <td>single</td>\n    </tr>\n    <tr>\n      <th>2</th>\n      <td>38</td>\n      <td>thin</td>\n      <td>anything</td>\n      <td>socially</td>\n      <td>NaN</td>\n      <td>graduated from masters program</td>\n      <td>i'm not ashamed of much, but writing public te...</td>\n      <td>i make nerdy software for musicians, artists, ...</td>\n      <td>improvising in different contexts. alternating...</td>\n      <td>my large jaw and large glasses are the physica...</td>\n      <td>...</td>\n      <td>san francisco, california</td>\n      <td>NaN</td>\n      <td>straight</td>\n      <td>has cats</td>\n      <td>NaN</td>\n      <td>m</td>\n      <td>pisces but it doesn&amp;rsquo;t matter</td>\n      <td>no</td>\n      <td>english, french, c++</td>\n      <td>available</td>\n    </tr>\n    <tr>\n      <th>3</th>\n      <td>23</td>\n      <td>thin</td>\n      <td>vegetarian</td>\n      <td>socially</td>\n      <td>NaN</td>\n      <td>working on college/university</td>\n      <td>i work in a library and go to school. . .</td>\n      <td>reading things written by old dead people</td>\n      <td>playing synthesizers and organizing books acco...</td>\n      <td>socially awkward but i do my best</td>\n      <td>...</td>\n      <td>berkeley, california</td>\n      <td>doesn&amp;rsquo;t want kids</td>\n      <td>straight</td>\n      <td>likes cats</td>\n      <td>NaN</td>\n      <td>m</td>\n      <td>pisces</td>\n      <td>no</td>\n      <td>english, german (poorly)</td>\n      <td>single</td>\n    </tr>\n    <tr>\n      <th>4</th>\n      <td>29</td>\n      <td>athletic</td>\n      <td>NaN</td>\n      <td>socially</td>\n      <td>never</td>\n      <td>graduated from college/university</td>\n      <td>hey how's it going? currently vague on the pro...</td>\n      <td>work work work work + play</td>\n      <td>creating imagery to look at:&lt;br /&gt;\\nhttp://bag...</td>\n      <td>i smile a lot and my inquisitive nature</td>\n      <td>...</td>\n      <td>san francisco, california</td>\n      <td>NaN</td>\n      <td>straight</td>\n      <td>likes dogs and likes cats</td>\n      <td>NaN</td>\n      <td>m</td>\n      <td>aquarius</td>\n      <td>no</td>\n      <td>english</td>\n      <td>single</td>\n    </tr>\n  </tbody>\n</table>\n<p>5 rows × 31 columns</p>\n</div>"
     },
     "execution_count": 2,
     "metadata": {},
     "output_type": "execute_result"
    }
   ],
   "source": [
    "profiles = pd.read_csv('profiles.csv', encoding='utf-8')\n",
    "profiles.head()"
   ]
  },
  {
   "cell_type": "code",
   "execution_count": 3,
   "metadata": {
    "execution": {
     "iopub.execute_input": "2022-11-23T05:55:29.426800Z",
     "iopub.status.busy": "2022-11-23T05:55:29.426300Z",
     "iopub.status.idle": "2022-11-23T05:55:29.460878Z",
     "shell.execute_reply": "2022-11-23T05:55:29.459484Z",
     "shell.execute_reply.started": "2022-11-23T05:55:29.426756Z"
    },
    "trusted": true
   },
   "outputs": [
    {
     "data": {
      "text/plain": "   age       body_type               diet    drinks      drugs  \\\n0   22  a little extra  strictly anything  socially      never   \n1   35         average       mostly other     often  sometimes   \n2   38            thin           anything  socially        NaN   \n3   23            thin         vegetarian  socially        NaN   \n4   29        athletic                NaN  socially      never   \n\n                           education  \\\n0      working on college/university   \n1              working on space camp   \n2     graduated from masters program   \n3      working on college/university   \n4  graduated from college/university   \n\n                                              essay0  \\\n0  about me:<br />\\n<br />\\ni would love to think...   \n1  i am a chef: this is what that means.<br />\\n1...   \n2  i'm not ashamed of much, but writing public te...   \n3          i work in a library and go to school. . .   \n4  hey how's it going? currently vague on the pro...   \n\n                                              essay1  \\\n0  currently working as an international agent fo...   \n1  dedicating everyday to being an unbelievable b...   \n2  i make nerdy software for musicians, artists, ...   \n3          reading things written by old dead people   \n4                         work work work work + play   \n\n                                              essay2  \\\n0  making people laugh.<br />\\nranting about a go...   \n1  being silly. having ridiculous amonts of fun w...   \n2  improvising in different contexts. alternating...   \n3  playing synthesizers and organizing books acco...   \n4  creating imagery to look at:<br />\\nhttp://bag...   \n\n                                              essay3  \\\n0  the way i look. i am a six foot half asian, ha...   \n1                                                NaN   \n2  my large jaw and large glasses are the physica...   \n3                  socially awkward but i do my best   \n4            i smile a lot and my inquisitive nature   \n\n                                              essay4  \\\n0  books:<br />\\nabsurdistan, the republic, of mi...   \n1  i am die hard christopher moore fan. i don't r...   \n2  okay this is where the cultural matrix gets so...   \n3  bataille, celine, beckett. . .<br />\\nlynch, j...   \n4  music: bands, rappers, musicians<br />\\nat the...   \n\n                                              essay5  \\\n0  food.<br />\\nwater.<br />\\ncell phone.<br />\\n...   \n1  delicious porkness in all of its glories.<br /...   \n2  movement<br />\\nconversation<br />\\ncreation<b...   \n3                                                NaN   \n4                                                NaN   \n\n                        essay6  \\\n0  duality and humorous things   \n1                          NaN   \n2                          NaN   \n3   cats and german philosophy   \n4                          NaN   \n\n                                              essay7  \\\n0  trying to find someone to hang out with. i am ...   \n1                                                NaN   \n2  viewing. listening. dancing. talking. drinking...   \n3                                                NaN   \n4                                                NaN   \n\n                                              essay8  \\\n0  i am new to california and looking for someone...   \n1  i am very open and will share just about anyth...   \n2  when i was five years old, i was known as \"the...   \n3                                                NaN   \n4                                                NaN   \n\n                                              essay9            ethnicity  \\\n0  you want to be swept off your feet!<br />\\nyou...         asian, white   \n1                                                NaN                white   \n2  you are bright, open, intense, silly, ironic, ...                  NaN   \n3                              you feel so inclined.                white   \n4                                                NaN  asian, black, other   \n\n   height  income                          job       last_online  \\\n0    75.0      -1               transportation  2012-06-28-20-30   \n1    70.0   80000         hospitality / travel  2012-06-29-21-41   \n2    68.0      -1                          NaN  2012-06-27-09-10   \n3    71.0   20000                      student  2012-06-28-14-22   \n4    66.0      -1  artistic / musical / writer  2012-06-27-21-26   \n\n                          location  \\\n0  south san francisco, california   \n1              oakland, california   \n2        san francisco, california   \n3             berkeley, california   \n4        san francisco, california   \n\n                                      offspring orientation  \\\n0  doesn&rsquo;t have kids, but might want them    straight   \n1  doesn&rsquo;t have kids, but might want them    straight   \n2                                           NaN    straight   \n3                       doesn&rsquo;t want kids    straight   \n4                                           NaN    straight   \n\n                        pets                                  religion sex  \\\n0  likes dogs and likes cats     agnosticism and very serious about it   m   \n1  likes dogs and likes cats  agnosticism but not too serious about it   m   \n2                   has cats                                       NaN   m   \n3                 likes cats                                       NaN   m   \n4  likes dogs and likes cats                                       NaN   m   \n\n                                 sign     smokes  \\\n0                              gemini  sometimes   \n1                              cancer         no   \n2  pisces but it doesn&rsquo;t matter         no   \n3                              pisces         no   \n4                            aquarius         no   \n\n                                              speaks     status  \n0                                            english     single  \n1  english (fluently), spanish (poorly), french (...     single  \n2                               english, french, c++  available  \n3                           english, german (poorly)     single  \n4                                            english     single  ",
      "text/html": "<div>\n<style scoped>\n    .dataframe tbody tr th:only-of-type {\n        vertical-align: middle;\n    }\n\n    .dataframe tbody tr th {\n        vertical-align: top;\n    }\n\n    .dataframe thead th {\n        text-align: right;\n    }\n</style>\n<table border=\"1\" class=\"dataframe\">\n  <thead>\n    <tr style=\"text-align: right;\">\n      <th></th>\n      <th>age</th>\n      <th>body_type</th>\n      <th>diet</th>\n      <th>drinks</th>\n      <th>drugs</th>\n      <th>education</th>\n      <th>essay0</th>\n      <th>essay1</th>\n      <th>essay2</th>\n      <th>essay3</th>\n      <th>essay4</th>\n      <th>essay5</th>\n      <th>essay6</th>\n      <th>essay7</th>\n      <th>essay8</th>\n      <th>essay9</th>\n      <th>ethnicity</th>\n      <th>height</th>\n      <th>income</th>\n      <th>job</th>\n      <th>last_online</th>\n      <th>location</th>\n      <th>offspring</th>\n      <th>orientation</th>\n      <th>pets</th>\n      <th>religion</th>\n      <th>sex</th>\n      <th>sign</th>\n      <th>smokes</th>\n      <th>speaks</th>\n      <th>status</th>\n    </tr>\n  </thead>\n  <tbody>\n    <tr>\n      <th>0</th>\n      <td>22</td>\n      <td>a little extra</td>\n      <td>strictly anything</td>\n      <td>socially</td>\n      <td>never</td>\n      <td>working on college/university</td>\n      <td>about me:&lt;br /&gt;\\n&lt;br /&gt;\\ni would love to think...</td>\n      <td>currently working as an international agent fo...</td>\n      <td>making people laugh.&lt;br /&gt;\\nranting about a go...</td>\n      <td>the way i look. i am a six foot half asian, ha...</td>\n      <td>books:&lt;br /&gt;\\nabsurdistan, the republic, of mi...</td>\n      <td>food.&lt;br /&gt;\\nwater.&lt;br /&gt;\\ncell phone.&lt;br /&gt;\\n...</td>\n      <td>duality and humorous things</td>\n      <td>trying to find someone to hang out with. i am ...</td>\n      <td>i am new to california and looking for someone...</td>\n      <td>you want to be swept off your feet!&lt;br /&gt;\\nyou...</td>\n      <td>asian, white</td>\n      <td>75.0</td>\n      <td>-1</td>\n      <td>transportation</td>\n      <td>2012-06-28-20-30</td>\n      <td>south san francisco, california</td>\n      <td>doesn&amp;rsquo;t have kids, but might want them</td>\n      <td>straight</td>\n      <td>likes dogs and likes cats</td>\n      <td>agnosticism and very serious about it</td>\n      <td>m</td>\n      <td>gemini</td>\n      <td>sometimes</td>\n      <td>english</td>\n      <td>single</td>\n    </tr>\n    <tr>\n      <th>1</th>\n      <td>35</td>\n      <td>average</td>\n      <td>mostly other</td>\n      <td>often</td>\n      <td>sometimes</td>\n      <td>working on space camp</td>\n      <td>i am a chef: this is what that means.&lt;br /&gt;\\n1...</td>\n      <td>dedicating everyday to being an unbelievable b...</td>\n      <td>being silly. having ridiculous amonts of fun w...</td>\n      <td>NaN</td>\n      <td>i am die hard christopher moore fan. i don't r...</td>\n      <td>delicious porkness in all of its glories.&lt;br /...</td>\n      <td>NaN</td>\n      <td>NaN</td>\n      <td>i am very open and will share just about anyth...</td>\n      <td>NaN</td>\n      <td>white</td>\n      <td>70.0</td>\n      <td>80000</td>\n      <td>hospitality / travel</td>\n      <td>2012-06-29-21-41</td>\n      <td>oakland, california</td>\n      <td>doesn&amp;rsquo;t have kids, but might want them</td>\n      <td>straight</td>\n      <td>likes dogs and likes cats</td>\n      <td>agnosticism but not too serious about it</td>\n      <td>m</td>\n      <td>cancer</td>\n      <td>no</td>\n      <td>english (fluently), spanish (poorly), french (...</td>\n      <td>single</td>\n    </tr>\n    <tr>\n      <th>2</th>\n      <td>38</td>\n      <td>thin</td>\n      <td>anything</td>\n      <td>socially</td>\n      <td>NaN</td>\n      <td>graduated from masters program</td>\n      <td>i'm not ashamed of much, but writing public te...</td>\n      <td>i make nerdy software for musicians, artists, ...</td>\n      <td>improvising in different contexts. alternating...</td>\n      <td>my large jaw and large glasses are the physica...</td>\n      <td>okay this is where the cultural matrix gets so...</td>\n      <td>movement&lt;br /&gt;\\nconversation&lt;br /&gt;\\ncreation&lt;b...</td>\n      <td>NaN</td>\n      <td>viewing. listening. dancing. talking. drinking...</td>\n      <td>when i was five years old, i was known as \"the...</td>\n      <td>you are bright, open, intense, silly, ironic, ...</td>\n      <td>NaN</td>\n      <td>68.0</td>\n      <td>-1</td>\n      <td>NaN</td>\n      <td>2012-06-27-09-10</td>\n      <td>san francisco, california</td>\n      <td>NaN</td>\n      <td>straight</td>\n      <td>has cats</td>\n      <td>NaN</td>\n      <td>m</td>\n      <td>pisces but it doesn&amp;rsquo;t matter</td>\n      <td>no</td>\n      <td>english, french, c++</td>\n      <td>available</td>\n    </tr>\n    <tr>\n      <th>3</th>\n      <td>23</td>\n      <td>thin</td>\n      <td>vegetarian</td>\n      <td>socially</td>\n      <td>NaN</td>\n      <td>working on college/university</td>\n      <td>i work in a library and go to school. . .</td>\n      <td>reading things written by old dead people</td>\n      <td>playing synthesizers and organizing books acco...</td>\n      <td>socially awkward but i do my best</td>\n      <td>bataille, celine, beckett. . .&lt;br /&gt;\\nlynch, j...</td>\n      <td>NaN</td>\n      <td>cats and german philosophy</td>\n      <td>NaN</td>\n      <td>NaN</td>\n      <td>you feel so inclined.</td>\n      <td>white</td>\n      <td>71.0</td>\n      <td>20000</td>\n      <td>student</td>\n      <td>2012-06-28-14-22</td>\n      <td>berkeley, california</td>\n      <td>doesn&amp;rsquo;t want kids</td>\n      <td>straight</td>\n      <td>likes cats</td>\n      <td>NaN</td>\n      <td>m</td>\n      <td>pisces</td>\n      <td>no</td>\n      <td>english, german (poorly)</td>\n      <td>single</td>\n    </tr>\n    <tr>\n      <th>4</th>\n      <td>29</td>\n      <td>athletic</td>\n      <td>NaN</td>\n      <td>socially</td>\n      <td>never</td>\n      <td>graduated from college/university</td>\n      <td>hey how's it going? currently vague on the pro...</td>\n      <td>work work work work + play</td>\n      <td>creating imagery to look at:&lt;br /&gt;\\nhttp://bag...</td>\n      <td>i smile a lot and my inquisitive nature</td>\n      <td>music: bands, rappers, musicians&lt;br /&gt;\\nat the...</td>\n      <td>NaN</td>\n      <td>NaN</td>\n      <td>NaN</td>\n      <td>NaN</td>\n      <td>NaN</td>\n      <td>asian, black, other</td>\n      <td>66.0</td>\n      <td>-1</td>\n      <td>artistic / musical / writer</td>\n      <td>2012-06-27-21-26</td>\n      <td>san francisco, california</td>\n      <td>NaN</td>\n      <td>straight</td>\n      <td>likes dogs and likes cats</td>\n      <td>NaN</td>\n      <td>m</td>\n      <td>aquarius</td>\n      <td>no</td>\n      <td>english</td>\n      <td>single</td>\n    </tr>\n  </tbody>\n</table>\n</div>"
     },
     "execution_count": 3,
     "metadata": {},
     "output_type": "execute_result"
    }
   ],
   "source": [
    "pd.set_option(\"display.max_columns\", None)\n",
    "profiles.head()"
   ]
  },
  {
   "cell_type": "markdown",
   "metadata": {},
   "source": [
    "There are 59946 rows and 31 columns"
   ]
  },
  {
   "cell_type": "code",
   "execution_count": 4,
   "metadata": {
    "execution": {
     "iopub.execute_input": "2022-11-23T05:55:29.465670Z",
     "iopub.status.busy": "2022-11-23T05:55:29.465113Z",
     "iopub.status.idle": "2022-11-23T05:55:29.475197Z",
     "shell.execute_reply": "2022-11-23T05:55:29.473487Z",
     "shell.execute_reply.started": "2022-11-23T05:55:29.465624Z"
    },
    "trusted": true
   },
   "outputs": [
    {
     "data": {
      "text/plain": "(59946, 31)"
     },
     "execution_count": 4,
     "metadata": {},
     "output_type": "execute_result"
    }
   ],
   "source": [
    "profiles.shape"
   ]
  },
  {
   "cell_type": "code",
   "execution_count": 5,
   "metadata": {
    "execution": {
     "iopub.execute_input": "2022-11-23T05:55:29.478493Z",
     "iopub.status.busy": "2022-11-23T05:55:29.477324Z",
     "iopub.status.idle": "2022-11-23T05:55:29.608823Z",
     "shell.execute_reply": "2022-11-23T05:55:29.607096Z",
     "shell.execute_reply.started": "2022-11-23T05:55:29.478456Z"
    },
    "trusted": true
   },
   "outputs": [
    {
     "name": "stdout",
     "output_type": "stream",
     "text": [
      "<class 'pandas.core.frame.DataFrame'>\n",
      "RangeIndex: 59946 entries, 0 to 59945\n",
      "Data columns (total 31 columns):\n",
      " #   Column       Non-Null Count  Dtype  \n",
      "---  ------       --------------  -----  \n",
      " 0   age          59946 non-null  int64  \n",
      " 1   body_type    54650 non-null  object \n",
      " 2   diet         35551 non-null  object \n",
      " 3   drinks       56961 non-null  object \n",
      " 4   drugs        45866 non-null  object \n",
      " 5   education    53318 non-null  object \n",
      " 6   essay0       54458 non-null  object \n",
      " 7   essay1       52374 non-null  object \n",
      " 8   essay2       50308 non-null  object \n",
      " 9   essay3       48470 non-null  object \n",
      " 10  essay4       49409 non-null  object \n",
      " 11  essay5       49096 non-null  object \n",
      " 12  essay6       46175 non-null  object \n",
      " 13  essay7       47495 non-null  object \n",
      " 14  essay8       40721 non-null  object \n",
      " 15  essay9       47343 non-null  object \n",
      " 16  ethnicity    54266 non-null  object \n",
      " 17  height       59943 non-null  float64\n",
      " 18  income       59946 non-null  int64  \n",
      " 19  job          51748 non-null  object \n",
      " 20  last_online  59946 non-null  object \n",
      " 21  location     59946 non-null  object \n",
      " 22  offspring    24385 non-null  object \n",
      " 23  orientation  59946 non-null  object \n",
      " 24  pets         40025 non-null  object \n",
      " 25  religion     39720 non-null  object \n",
      " 26  sex          59946 non-null  object \n",
      " 27  sign         48890 non-null  object \n",
      " 28  smokes       54434 non-null  object \n",
      " 29  speaks       59896 non-null  object \n",
      " 30  status       59946 non-null  object \n",
      "dtypes: float64(1), int64(2), object(28)\n",
      "memory usage: 14.2+ MB\n"
     ]
    }
   ],
   "source": [
    "profiles.info()"
   ]
  },
  {
   "cell_type": "markdown",
   "metadata": {},
   "source": [
    "### Data Characteristics\n",
    "`profiles` has 59,946 rows and 31 columns, this is a good sign since there seems to be enough data for machine learning. \n",
    "\n",
    "The columns in the dataset include: \n",
    "\n",
    "- **age:** continuous variable of age of user\n",
    "- **body_type:** categorical variable of body type of user\n",
    "- **diet:** categorical variable of dietary information\n",
    "- **drinks:**  categorical variable of alcohol consumption\n",
    "- **drugs:** categorical variable of drug usage\n",
    "- **education:** categorical variable of educational attainment\n",
    "- **ethnicity:** categorical variable of ethnic backgrounds\n",
    "- **height:** continuous variable of height of user\n",
    "- **income:** continuous variable of income of user\n",
    "- **job:** categorical variable of employment description\n",
    "- **offspring:** categorical variable of children status\n",
    "- **orientation:** categorical variable of sexual orientation\n",
    "- **pets:** categorical variable of pet preferences\n",
    "- **religion:** categorical variable of religious background\n",
    "- **sex:** categorical variable of gender\n",
    "- **sign:** categorical variable of astrological symbol\n",
    "- **smokes:** categorical variable of smoking consumption\n",
    "- **speaks:** categorical variable of language spoken\n",
    "- **status:** categorical variable of relationship status\n",
    "- **last_online:** date variable of last login\n",
    "- **location:** categorical variable of user locations\n",
    "\n",
    "And a set of open short-answer responses to:\n",
    "\n",
    "- **essay0:** My self summary\n",
    "- **essay1:**  What I’m doing with my life\n",
    "- **essay2:** I’m really good at\n",
    "- **essay3:** The first thing people usually notice about me\n",
    "- **essay4:** Favorite books, movies, show, music, and food\n",
    "- **essay5:** The six things I could never do without\n",
    "- **essay6:** I spend a lot of time thinking about\n",
    "- **essay7:** On a typical Friday night I am\n",
    "- **essay8:** The most private thing I am willing to admit\n",
    "- **essay9:** You should message me if…\n",
    "\n",
    "\n",
    "### Explore the Data set"
   ]
  },
  {
   "cell_type": "code",
   "execution_count": 6,
   "metadata": {
    "execution": {
     "iopub.execute_input": "2022-11-23T05:55:29.611026Z",
     "iopub.status.busy": "2022-11-23T05:55:29.610659Z",
     "iopub.status.idle": "2022-11-23T05:55:29.622317Z",
     "shell.execute_reply": "2022-11-23T05:55:29.620806Z",
     "shell.execute_reply.started": "2022-11-23T05:55:29.610995Z"
    },
    "trusted": true
   },
   "outputs": [
    {
     "data": {
      "text/plain": "m    35829\nf    24117\nName: sex, dtype: int64"
     },
     "execution_count": 6,
     "metadata": {},
     "output_type": "execute_result"
    }
   ],
   "source": [
    "profiles.sex.value_counts()"
   ]
  },
  {
   "cell_type": "markdown",
   "metadata": {},
   "source": [
    "We can see that there are more male uses the dating app than women."
   ]
  },
  {
   "cell_type": "markdown",
   "metadata": {},
   "source": [
    "We can see that all columns are represented with an appropriate data type, however we can see that there is many missing data. "
   ]
  },
  {
   "cell_type": "code",
   "execution_count": 7,
   "metadata": {
    "execution": {
     "iopub.execute_input": "2022-11-23T05:55:29.624351Z",
     "iopub.status.busy": "2022-11-23T05:55:29.624011Z",
     "iopub.status.idle": "2022-11-23T05:55:29.739162Z",
     "shell.execute_reply": "2022-11-23T05:55:29.738063Z",
     "shell.execute_reply.started": "2022-11-23T05:55:29.624322Z"
    },
    "trusted": true
   },
   "outputs": [
    {
     "data": {
      "text/plain": "age                0\nbody_type       5296\ndiet           24395\ndrinks          2985\ndrugs          14080\neducation       6628\nessay0          5488\nessay1          7572\nessay2          9638\nessay3         11476\nessay4         10537\nessay5         10850\nessay6         13771\nessay7         12451\nessay8         19225\nessay9         12603\nethnicity       5680\nheight             3\nincome             0\njob             8198\nlast_online        0\nlocation           0\noffspring      35561\norientation        0\npets           19921\nreligion       20226\nsex                0\nsign           11056\nsmokes          5512\nspeaks            50\nstatus             0\ndtype: int64"
     },
     "execution_count": 7,
     "metadata": {},
     "output_type": "execute_result"
    }
   ],
   "source": [
    "profiles.isna().sum()"
   ]
  },
  {
   "cell_type": "markdown",
   "metadata": {},
   "source": [
    "The code block above shows how many missing data in each column. However, three numerical column including age, heigh and income mostly does not have any nan data. However, outliers may appears in these attributes."
   ]
  },
  {
   "cell_type": "code",
   "execution_count": 8,
   "metadata": {
    "execution": {
     "iopub.execute_input": "2022-11-23T05:55:29.741114Z",
     "iopub.status.busy": "2022-11-23T05:55:29.740652Z",
     "iopub.status.idle": "2022-11-23T05:55:29.777892Z",
     "shell.execute_reply": "2022-11-23T05:55:29.776802Z",
     "shell.execute_reply.started": "2022-11-23T05:55:29.741079Z"
    },
    "trusted": true
   },
   "outputs": [
    {
     "data": {
      "text/plain": "                age        height          income\ncount  59946.000000  59943.000000    59946.000000\nmean      32.340290     68.295281    20033.222534\nstd        9.452779      3.994803    97346.192104\nmin       18.000000      1.000000       -1.000000\n25%       26.000000     66.000000       -1.000000\n50%       30.000000     68.000000       -1.000000\n75%       37.000000     71.000000       -1.000000\nmax      110.000000     95.000000  1000000.000000",
      "text/html": "<div>\n<style scoped>\n    .dataframe tbody tr th:only-of-type {\n        vertical-align: middle;\n    }\n\n    .dataframe tbody tr th {\n        vertical-align: top;\n    }\n\n    .dataframe thead th {\n        text-align: right;\n    }\n</style>\n<table border=\"1\" class=\"dataframe\">\n  <thead>\n    <tr style=\"text-align: right;\">\n      <th></th>\n      <th>age</th>\n      <th>height</th>\n      <th>income</th>\n    </tr>\n  </thead>\n  <tbody>\n    <tr>\n      <th>count</th>\n      <td>59946.000000</td>\n      <td>59943.000000</td>\n      <td>59946.000000</td>\n    </tr>\n    <tr>\n      <th>mean</th>\n      <td>32.340290</td>\n      <td>68.295281</td>\n      <td>20033.222534</td>\n    </tr>\n    <tr>\n      <th>std</th>\n      <td>9.452779</td>\n      <td>3.994803</td>\n      <td>97346.192104</td>\n    </tr>\n    <tr>\n      <th>min</th>\n      <td>18.000000</td>\n      <td>1.000000</td>\n      <td>-1.000000</td>\n    </tr>\n    <tr>\n      <th>25%</th>\n      <td>26.000000</td>\n      <td>66.000000</td>\n      <td>-1.000000</td>\n    </tr>\n    <tr>\n      <th>50%</th>\n      <td>30.000000</td>\n      <td>68.000000</td>\n      <td>-1.000000</td>\n    </tr>\n    <tr>\n      <th>75%</th>\n      <td>37.000000</td>\n      <td>71.000000</td>\n      <td>-1.000000</td>\n    </tr>\n    <tr>\n      <th>max</th>\n      <td>110.000000</td>\n      <td>95.000000</td>\n      <td>1000000.000000</td>\n    </tr>\n  </tbody>\n</table>\n</div>"
     },
     "execution_count": 8,
     "metadata": {},
     "output_type": "execute_result"
    }
   ],
   "source": [
    "profiles.describe()"
   ]
  },
  {
   "cell_type": "markdown",
   "metadata": {},
   "source": [
    "We can see that there are outliers in these attribute.\n",
    "75% users are under 37, however, the oldest is 110 years old which seems impossible to use this app. \n",
    "\n",
    "The \"age\" attribute visualization"
   ]
  },
  {
   "cell_type": "code",
   "execution_count": 9,
   "metadata": {
    "execution": {
     "iopub.execute_input": "2022-11-23T05:55:29.780757Z",
     "iopub.status.busy": "2022-11-23T05:55:29.779911Z",
     "iopub.status.idle": "2022-11-23T05:55:30.494474Z",
     "shell.execute_reply": "2022-11-23T05:55:30.493289Z",
     "shell.execute_reply.started": "2022-11-23T05:55:29.780678Z"
    },
    "trusted": true
   },
   "outputs": [
    {
     "data": {
      "text/plain": "<seaborn.axisgrid.FacetGrid at 0x2974ab96850>"
     },
     "execution_count": 9,
     "metadata": {},
     "output_type": "execute_result"
    },
    {
     "data": {
      "text/plain": "<Figure size 405.625x360 with 1 Axes>",
      "image/png": "[encoded data removed]"
     },
     "metadata": {
      "needs_background": "light"
     },
     "output_type": "display_data"
    }
   ],
   "source": [
    "sns.displot(data=profiles, x=\"age\", hue=\"sex\", kind=\"hist\", binwidth = 5, multiple = \"stack\")"
   ]
  },
  {
   "cell_type": "markdown",
   "metadata": {},
   "source": [
    "We can conclude that most user range from 18 to under 80. Therefore, the datapoint which has \"age\" >80 are not really valuable."
   ]
  },
  {
   "cell_type": "code",
   "execution_count": 10,
   "metadata": {
    "execution": {
     "iopub.execute_input": "2022-11-23T05:55:30.500413Z",
     "iopub.status.busy": "2022-11-23T05:55:30.499656Z",
     "iopub.status.idle": "2022-11-23T05:55:30.690547Z",
     "shell.execute_reply": "2022-11-23T05:55:30.689396Z",
     "shell.execute_reply.started": "2022-11-23T05:55:30.500375Z"
    },
    "trusted": true
   },
   "outputs": [
    {
     "name": "stderr",
     "output_type": "stream",
     "text": [
      "C:\\Users\\Admin\\AppData\\Local\\Temp/ipykernel_7600/1771056510.py:2: FutureWarning: Dropping of nuisance columns in DataFrame reductions (with 'numeric_only=None') is deprecated; in a future version this will raise TypeError.  Select only valid columns before calling the reduction.\n",
      "  profiles.max() #the highest age is 69\n"
     ]
    },
    {
     "data": {
      "text/plain": "age                            69.0\nheight                         95.0\nincome                      1000000\nlast_online        2012-07-01-08-57\nlocation       woodside, california\norientation                straight\nsex                               m\nstatus                      unknown\ndtype: object"
     },
     "execution_count": 10,
     "metadata": {},
     "output_type": "execute_result"
    }
   ],
   "source": [
    "profiles[\"age\"] = profiles[profiles[\"age\"] <=80][\"age\"]\n",
    "profiles.max() #the highest age is 69"
   ]
  },
  {
   "cell_type": "markdown",
   "metadata": {},
   "source": [
    "There are outliers in \"height\". The min value of \"height\" is 1 inch which is impossible. The height of the shortest person in the wolrd is about 20 inches. Therefore, we should inspect datapoints which the \"height\" value is under 20 to see if these data points are valueable.\n"
   ]
  },
  {
   "cell_type": "code",
   "execution_count": 11,
   "metadata": {
    "execution": {
     "iopub.execute_input": "2022-11-23T05:55:30.693391Z",
     "iopub.status.busy": "2022-11-23T05:55:30.692191Z",
     "iopub.status.idle": "2022-11-23T05:55:30.729521Z",
     "shell.execute_reply": "2022-11-23T05:55:30.726997Z",
     "shell.execute_reply.started": "2022-11-23T05:55:30.693348Z"
    },
    "trusted": true
   },
   "outputs": [
    {
     "data": {
      "text/plain": "        age body_type               diet       drinks  drugs  \\\n12193  30.0       NaN  mostly vegetarian     socially    NaN   \n18832  39.0  athletic                NaN     socially  never   \n23767  32.0      thin    mostly anything  desperately    NaN   \n37111  25.0       fit    mostly anything     socially  never   \n45959  36.0       NaN                NaN   very often  never   \n56287  25.0       NaN                NaN        often  often   \n\n                               education  \\\n12193          graduated from space camp   \n18832     graduated from masters program   \n23767            working on ph.d program   \n37111  graduated from college/university   \n45959  graduated from college/university   \n56287              working on space camp   \n\n                                                  essay0  \\\n12193  well, hello and thank you for stopping by my g...   \n18832  home: i was a happy surprise for my parents. y...   \n23767  small teller of tall tales. nostalgiaphile. un...   \n37111  dating me is not for everyone. i will frequent...   \n45959  i'm a transplant from southern california with...   \n56287  i love not dancing and portobello mushrooms. a...   \n\n                                                  essay1  \\\n12193  i mostly try to be good at what i do, maintain...   \n18832  working at a start-up in technology. never rea...   \n23767  entropologist/enigmatologist/muse/things that ...   \n37111  in preschool, i was the boy that drew transfor...   \n45959  living each day as if it'd be my last, and man...   \n56287                   walking around town left handed.   \n\n                                                  essay2  \\\n12193                                   folding laundry.   \n18832  online dating. it's the dating in real life th...   \n23767  the things i don't quit. but only because i te...   \n37111  besides the obvious stated above:<br />\\ncrack...   \n45959  writing, rambling, fixing anything thats break...   \n56287  being online and starting collections. i am re...   \n\n                                                  essay3  \\\n12193  perhaps my eyes? i'm told they are a unique co...   \n18832  that i am trying to notice what they are tryin...   \n23767  something about the eyes-to-face ratio. and th...   \n37111  the hair. and yes, they're deadly poisonous sp...   \n45959  my otherwise perfect hair, my half-sleeve tatt...   \n56287         my long fingers and ability to be awkward.   \n\n                                                  essay4  \\\n12193  i really like memoirs of folks who have persev...   \n18832  books: espn, 30 rock, kama sutra, spider-man<b...   \n23767  current train reading = miranda july's _no one...   \n37111  <a class=\"ilink\" href=\"/interests?i=octobor+sk...   \n45959  i enjoy reading louis sachar, james burke, ala...   \n56287                                      potato skins.   \n\n                                                  essay5  \\\n12193                                                NaN   \n18832  1)global warming; uhmm, i mean climate change ...   \n23767     they wouldn't be things. they would be people.   \n37111  1. my iphone, but that's as far as i'll go wit...   \n45959  irish whiskey<br />\\nbroadband internet<br />\\...   \n56287  the six things i could always do without are: ...   \n\n                                                  essay6  \\\n12193  how many more minutes until i can get into my ...   \n18832   what i am going to write in this online profile.   \n23767  most everything. sometimes (okay, maybe often)...   \n37111   art, plans for the future and what's for dinner.   \n45959  zombies, and ways not to get eaten by them.<br...   \n56287    moosing, spain, and one of those sugar daddies.   \n\n                                                  essay7  \\\n12193                                          relaxing!   \n18832  trying to figure out something atypical to do ...   \n23767  awake. but that's every night. i suppose that ...   \n37111  out having a great time with my buddies at a s...   \n45959  peering through the bottom of a whiskey glass....   \n56287         watching netflix on my computer and uking.   \n\n                                                  essay8  \\\n12193  when i was a kid, i poured myself a glass of r...   \n18832  -i have mommy issues.<br />\\n-i can time trave...   \n23767  i have no idea why i selected this username. (...   \n37111  i've seen all 3 twilight movies.<br />\\ndespit...   \n45959  i can't stand online dating, or the stigma att...   \n56287                                   i'm left-handed.   \n\n                                                  essay9  \\\n12193  you are easy going and big loving.<br />\\nyou ...   \n18832  you are super insecure, emotionally vacant, an...   \n23767  *you're so inclined.<br />\\n<br />\\n*oh! but i...   \n37111  you're not a date rapist<br />\\nyou have the c...   \n45959  if you're a ninja (with skills) or a pirate. y...   \n56287                               you are left-handed.   \n\n                                ethnicity  height   income  \\\n12193                               white     8.0       -1   \n18832                               asian     3.0       -1   \n23767                                 NaN     6.0       -1   \n37111                               asian     9.0  1000000   \n45959                                 NaN     1.0    80000   \n56287  pacific islander, hispanic / latin     4.0       -1   \n\n                                  job       last_online  \\\n12193               medicine / health  2012-06-30-03-02   \n18832  computer / hardware / software  2012-06-24-14-33   \n23767           entertainment / media  2011-06-29-22-32   \n37111     artistic / musical / writer  2011-11-15-19-55   \n45959    science / tech / engineering  2012-06-28-14-18   \n56287     artistic / musical / writer  2012-06-25-07-32   \n\n                        location                offspring orientation  \\\n12193       berkeley, california  doesn&rsquo;t have kids    straight   \n18832  san francisco, california                      NaN    straight   \n23767  san francisco, california                      NaN    straight   \n37111      san mateo, california                      NaN    straight   \n45959        oakland, california                      NaN    straight   \n56287  san francisco, california                      NaN    straight   \n\n                             pets                                   religion  \\\n12193   likes dogs and likes cats       judaism but not too serious about it   \n18832                  likes dogs  christianity but not too serious about it   \n23767     likes dogs and has cats                                agnosticism   \n37111                         NaN                                        NaN   \n45959     likes dogs and has cats              judaism and laughing about it   \n56287  has dogs and dislikes cats                other and laughing about it   \n\n      sex                                   sign         smokes  \\\n12193   f     taurus but it doesn&rsquo;t matter             no   \n18832   m     gemini but it doesn&rsquo;t matter             no   \n23767   f                                    NaN             no   \n37111   m  leo and it&rsquo;s fun to think about  when drinking   \n45959   m  leo and it&rsquo;s fun to think about  when drinking   \n56287   f     cancer but it doesn&rsquo;t matter            yes   \n\n                                                  speaks  status  \n12193                                            english  single  \n18832  english (fluently), chinese (okay), french (po...  single  \n23767  english (fluently), french (okay), german (poo...  single  \n37111  english (fluently), chinese (fluently), japane...  single  \n45959  english (fluently), c++ (fluently), hebrew (po...  single  \n56287               english (fluently), spanish (poorly)  single  ",
      "text/html": "<div>\n<style scoped>\n    .dataframe tbody tr th:only-of-type {\n        vertical-align: middle;\n    }\n\n    .dataframe tbody tr th {\n        vertical-align: top;\n    }\n\n    .dataframe thead th {\n        text-align: right;\n    }\n</style>\n<table border=\"1\" class=\"dataframe\">\n  <thead>\n    <tr style=\"text-align: right;\">\n      <th></th>\n      <th>age</th>\n      <th>body_type</th>\n      <th>diet</th>\n      <th>drinks</th>\n      <th>drugs</th>\n      <th>education</th>\n      <th>essay0</th>\n      <th>essay1</th>\n      <th>essay2</th>\n      <th>essay3</th>\n      <th>essay4</th>\n      <th>essay5</th>\n      <th>essay6</th>\n      <th>essay7</th>\n      <th>essay8</th>\n      <th>essay9</th>\n      <th>ethnicity</th>\n      <th>height</th>\n      <th>income</th>\n      <th>job</th>\n      <th>last_online</th>\n      <th>location</th>\n      <th>offspring</th>\n      <th>orientation</th>\n      <th>pets</th>\n      <th>religion</th>\n      <th>sex</th>\n      <th>sign</th>\n      <th>smokes</th>\n      <th>speaks</th>\n      <th>status</th>\n    </tr>\n  </thead>\n  <tbody>\n    <tr>\n      <th>12193</th>\n      <td>30.0</td>\n      <td>NaN</td>\n      <td>mostly vegetarian</td>\n      <td>socially</td>\n      <td>NaN</td>\n      <td>graduated from space camp</td>\n      <td>well, hello and thank you for stopping by my g...</td>\n      <td>i mostly try to be good at what i do, maintain...</td>\n      <td>folding laundry.</td>\n      <td>perhaps my eyes? i'm told they are a unique co...</td>\n      <td>i really like memoirs of folks who have persev...</td>\n      <td>NaN</td>\n      <td>how many more minutes until i can get into my ...</td>\n      <td>relaxing!</td>\n      <td>when i was a kid, i poured myself a glass of r...</td>\n      <td>you are easy going and big loving.&lt;br /&gt;\\nyou ...</td>\n      <td>white</td>\n      <td>8.0</td>\n      <td>-1</td>\n      <td>medicine / health</td>\n      <td>2012-06-30-03-02</td>\n      <td>berkeley, california</td>\n      <td>doesn&amp;rsquo;t have kids</td>\n      <td>straight</td>\n      <td>likes dogs and likes cats</td>\n      <td>judaism but not too serious about it</td>\n      <td>f</td>\n      <td>taurus but it doesn&amp;rsquo;t matter</td>\n      <td>no</td>\n      <td>english</td>\n      <td>single</td>\n    </tr>\n    <tr>\n      <th>18832</th>\n      <td>39.0</td>\n      <td>athletic</td>\n      <td>NaN</td>\n      <td>socially</td>\n      <td>never</td>\n      <td>graduated from masters program</td>\n      <td>home: i was a happy surprise for my parents. y...</td>\n      <td>working at a start-up in technology. never rea...</td>\n      <td>online dating. it's the dating in real life th...</td>\n      <td>that i am trying to notice what they are tryin...</td>\n      <td>books: espn, 30 rock, kama sutra, spider-man&lt;b...</td>\n      <td>1)global warming; uhmm, i mean climate change ...</td>\n      <td>what i am going to write in this online profile.</td>\n      <td>trying to figure out something atypical to do ...</td>\n      <td>-i have mommy issues.&lt;br /&gt;\\n-i can time trave...</td>\n      <td>you are super insecure, emotionally vacant, an...</td>\n      <td>asian</td>\n      <td>3.0</td>\n      <td>-1</td>\n      <td>computer / hardware / software</td>\n      <td>2012-06-24-14-33</td>\n      <td>san francisco, california</td>\n      <td>NaN</td>\n      <td>straight</td>\n      <td>likes dogs</td>\n      <td>christianity but not too serious about it</td>\n      <td>m</td>\n      <td>gemini but it doesn&amp;rsquo;t matter</td>\n      <td>no</td>\n      <td>english (fluently), chinese (okay), french (po...</td>\n      <td>single</td>\n    </tr>\n    <tr>\n      <th>23767</th>\n      <td>32.0</td>\n      <td>thin</td>\n      <td>mostly anything</td>\n      <td>desperately</td>\n      <td>NaN</td>\n      <td>working on ph.d program</td>\n      <td>small teller of tall tales. nostalgiaphile. un...</td>\n      <td>entropologist/enigmatologist/muse/things that ...</td>\n      <td>the things i don't quit. but only because i te...</td>\n      <td>something about the eyes-to-face ratio. and th...</td>\n      <td>current train reading = miranda july's _no one...</td>\n      <td>they wouldn't be things. they would be people.</td>\n      <td>most everything. sometimes (okay, maybe often)...</td>\n      <td>awake. but that's every night. i suppose that ...</td>\n      <td>i have no idea why i selected this username. (...</td>\n      <td>*you're so inclined.&lt;br /&gt;\\n&lt;br /&gt;\\n*oh! but i...</td>\n      <td>NaN</td>\n      <td>6.0</td>\n      <td>-1</td>\n      <td>entertainment / media</td>\n      <td>2011-06-29-22-32</td>\n      <td>san francisco, california</td>\n      <td>NaN</td>\n      <td>straight</td>\n      <td>likes dogs and has cats</td>\n      <td>agnosticism</td>\n      <td>f</td>\n      <td>NaN</td>\n      <td>no</td>\n      <td>english (fluently), french (okay), german (poo...</td>\n      <td>single</td>\n    </tr>\n    <tr>\n      <th>37111</th>\n      <td>25.0</td>\n      <td>fit</td>\n      <td>mostly anything</td>\n      <td>socially</td>\n      <td>never</td>\n      <td>graduated from college/university</td>\n      <td>dating me is not for everyone. i will frequent...</td>\n      <td>in preschool, i was the boy that drew transfor...</td>\n      <td>besides the obvious stated above:&lt;br /&gt;\\ncrack...</td>\n      <td>the hair. and yes, they're deadly poisonous sp...</td>\n      <td>&lt;a class=\"ilink\" href=\"/interests?i=octobor+sk...</td>\n      <td>1. my iphone, but that's as far as i'll go wit...</td>\n      <td>art, plans for the future and what's for dinner.</td>\n      <td>out having a great time with my buddies at a s...</td>\n      <td>i've seen all 3 twilight movies.&lt;br /&gt;\\ndespit...</td>\n      <td>you're not a date rapist&lt;br /&gt;\\nyou have the c...</td>\n      <td>asian</td>\n      <td>9.0</td>\n      <td>1000000</td>\n      <td>artistic / musical / writer</td>\n      <td>2011-11-15-19-55</td>\n      <td>san mateo, california</td>\n      <td>NaN</td>\n      <td>straight</td>\n      <td>NaN</td>\n      <td>NaN</td>\n      <td>m</td>\n      <td>leo and it&amp;rsquo;s fun to think about</td>\n      <td>when drinking</td>\n      <td>english (fluently), chinese (fluently), japane...</td>\n      <td>single</td>\n    </tr>\n    <tr>\n      <th>45959</th>\n      <td>36.0</td>\n      <td>NaN</td>\n      <td>NaN</td>\n      <td>very often</td>\n      <td>never</td>\n      <td>graduated from college/university</td>\n      <td>i'm a transplant from southern california with...</td>\n      <td>living each day as if it'd be my last, and man...</td>\n      <td>writing, rambling, fixing anything thats break...</td>\n      <td>my otherwise perfect hair, my half-sleeve tatt...</td>\n      <td>i enjoy reading louis sachar, james burke, ala...</td>\n      <td>irish whiskey&lt;br /&gt;\\nbroadband internet&lt;br /&gt;\\...</td>\n      <td>zombies, and ways not to get eaten by them.&lt;br...</td>\n      <td>peering through the bottom of a whiskey glass....</td>\n      <td>i can't stand online dating, or the stigma att...</td>\n      <td>if you're a ninja (with skills) or a pirate. y...</td>\n      <td>NaN</td>\n      <td>1.0</td>\n      <td>80000</td>\n      <td>science / tech / engineering</td>\n      <td>2012-06-28-14-18</td>\n      <td>oakland, california</td>\n      <td>NaN</td>\n      <td>straight</td>\n      <td>likes dogs and has cats</td>\n      <td>judaism and laughing about it</td>\n      <td>m</td>\n      <td>leo and it&amp;rsquo;s fun to think about</td>\n      <td>when drinking</td>\n      <td>english (fluently), c++ (fluently), hebrew (po...</td>\n      <td>single</td>\n    </tr>\n    <tr>\n      <th>56287</th>\n      <td>25.0</td>\n      <td>NaN</td>\n      <td>NaN</td>\n      <td>often</td>\n      <td>often</td>\n      <td>working on space camp</td>\n      <td>i love not dancing and portobello mushrooms. a...</td>\n      <td>walking around town left handed.</td>\n      <td>being online and starting collections. i am re...</td>\n      <td>my long fingers and ability to be awkward.</td>\n      <td>potato skins.</td>\n      <td>the six things i could always do without are: ...</td>\n      <td>moosing, spain, and one of those sugar daddies.</td>\n      <td>watching netflix on my computer and uking.</td>\n      <td>i'm left-handed.</td>\n      <td>you are left-handed.</td>\n      <td>pacific islander, hispanic / latin</td>\n      <td>4.0</td>\n      <td>-1</td>\n      <td>artistic / musical / writer</td>\n      <td>2012-06-25-07-32</td>\n      <td>san francisco, california</td>\n      <td>NaN</td>\n      <td>straight</td>\n      <td>has dogs and dislikes cats</td>\n      <td>other and laughing about it</td>\n      <td>f</td>\n      <td>cancer but it doesn&amp;rsquo;t matter</td>\n      <td>yes</td>\n      <td>english (fluently), spanish (poorly)</td>\n      <td>single</td>\n    </tr>\n  </tbody>\n</table>\n</div>"
     },
     "execution_count": 11,
     "metadata": {},
     "output_type": "execute_result"
    }
   ],
   "source": [
    "profiles[profiles[\"height\"] <= 20]"
   ]
  },
  {
   "cell_type": "markdown",
   "metadata": {},
   "source": [
    "These datapoint seems valuable in some attributes. We can assume that these users has typo in their height. \n",
    "We convert every \"height\" value <= 20 to NaN"
   ]
  },
  {
   "cell_type": "code",
   "execution_count": 12,
   "metadata": {
    "execution": {
     "iopub.execute_input": "2022-11-23T05:55:30.731685Z",
     "iopub.status.busy": "2022-11-23T05:55:30.731041Z",
     "iopub.status.idle": "2022-11-23T05:55:30.742408Z",
     "shell.execute_reply": "2022-11-23T05:55:30.741115Z",
     "shell.execute_reply.started": "2022-11-23T05:55:30.731647Z"
    },
    "trusted": true
   },
   "outputs": [],
   "source": [
    "for height in profiles[profiles[\"height\"]<= 20][\"height\"]:\n",
    "    profiles[\"height\"]= profiles[\"height\"].replace(height, np.nan)\n",
    "\n",
    "# profiles[\"height\"].isna().sum()"
   ]
  },
  {
   "cell_type": "code",
   "execution_count": 13,
   "metadata": {
    "execution": {
     "iopub.execute_input": "2022-11-23T05:55:30.745069Z",
     "iopub.status.busy": "2022-11-23T05:55:30.744462Z",
     "iopub.status.idle": "2022-11-23T05:55:31.495859Z",
     "shell.execute_reply": "2022-11-23T05:55:31.494469Z",
     "shell.execute_reply.started": "2022-11-23T05:55:30.745021Z"
    },
    "trusted": true
   },
   "outputs": [
    {
     "data": {
      "text/plain": "<Figure size 405.625x360 with 1 Axes>",
      "image/png": "[encoded data removed]"
     },
     "metadata": {
      "needs_background": "light"
     },
     "output_type": "display_data"
    }
   ],
   "source": [
    "sns.displot(data=profiles, x=\"height\",hue=\"sex\", kind=\"hist\", binwidth = 2, multiple = \"stack\");"
   ]
  },
  {
   "cell_type": "markdown",
   "metadata": {},
   "source": [
    "The above plot shows the height variable, most people look like they are between 60 inches tall and 80 inches tall. Females tend to be shorter than males and looks to have a normal distribution."
   ]
  },
  {
   "cell_type": "markdown",
   "metadata": {},
   "source": [
    "We also can see that most of people do not show their income on the app. The missing data here is indicated with value \"-1\". In my opinion, -1 should be convereted to np.nan"
   ]
  },
  {
   "cell_type": "code",
   "execution_count": 14,
   "metadata": {
    "execution": {
     "iopub.execute_input": "2022-11-23T05:55:31.497684Z",
     "iopub.status.busy": "2022-11-23T05:55:31.497046Z",
     "iopub.status.idle": "2022-11-23T05:55:31.508570Z",
     "shell.execute_reply": "2022-11-23T05:55:31.507316Z",
     "shell.execute_reply.started": "2022-11-23T05:55:31.497652Z"
    },
    "trusted": true
   },
   "outputs": [
    {
     "data": {
      "text/plain": "48442"
     },
     "execution_count": 14,
     "metadata": {},
     "output_type": "execute_result"
    }
   ],
   "source": [
    "profiles[\"income\"]= profiles[\"income\"].replace(-1, np.nan)\n",
    "profiles[\"income\"].isna().sum()"
   ]
  },
  {
   "cell_type": "code",
   "execution_count": 15,
   "metadata": {
    "execution": {
     "iopub.execute_input": "2022-11-23T05:55:31.510946Z",
     "iopub.status.busy": "2022-11-23T05:55:31.510111Z",
     "iopub.status.idle": "2022-11-23T05:55:32.191381Z",
     "shell.execute_reply": "2022-11-23T05:55:32.190095Z",
     "shell.execute_reply.started": "2022-11-23T05:55:31.510911Z"
    },
    "trusted": true
   },
   "outputs": [
    {
     "data": {
      "text/plain": "<seaborn.axisgrid.FacetGrid at 0x2974ac32340>"
     },
     "execution_count": 15,
     "metadata": {},
     "output_type": "execute_result"
    },
    {
     "data": {
      "text/plain": "<Figure size 405.625x360 with 1 Axes>",
      "image/png": "[encoded data removed]"
     },
     "metadata": {
      "needs_background": "light"
     },
     "output_type": "display_data"
    }
   ],
   "source": [
    "sns.displot(data=profiles, x=\"income\",hue=\"sex\", kind=\"hist\", binwidth = 50000, multiple = \"stack\")"
   ]
  },
  {
   "cell_type": "markdown",
   "metadata": {},
   "source": [
    "There are some outliers. We can limit the income to under 400000 to see the income distribution"
   ]
  },
  {
   "cell_type": "code",
   "execution_count": 16,
   "metadata": {
    "execution": {
     "iopub.execute_input": "2022-11-23T05:55:32.193340Z",
     "iopub.status.busy": "2022-11-23T05:55:32.192592Z",
     "iopub.status.idle": "2022-11-23T05:55:32.723729Z",
     "shell.execute_reply": "2022-11-23T05:55:32.722602Z",
     "shell.execute_reply.started": "2022-11-23T05:55:32.193305Z"
    },
    "trusted": true
   },
   "outputs": [
    {
     "data": {
      "text/plain": "<seaborn.axisgrid.FacetGrid at 0x297535883a0>"
     },
     "execution_count": 16,
     "metadata": {},
     "output_type": "execute_result"
    },
    {
     "data": {
      "text/plain": "<Figure size 405.625x360 with 1 Axes>",
      "image/png": "[encoded data removed]"
     },
     "metadata": {
      "needs_background": "light"
     },
     "output_type": "display_data"
    }
   ],
   "source": [
    "sns.displot(data=profiles[profiles[\"income\"]<=400000], x=\"income\",hue=\"sex\", kind=\"hist\", binwidth = 50000, multiple = \"stack\")"
   ]
  },
  {
   "cell_type": "markdown",
   "metadata": {},
   "source": [
    "Now we will check the all discrete variable to see their unique value"
   ]
  },
  {
   "cell_type": "code",
   "execution_count": 17,
   "metadata": {
    "execution": {
     "iopub.execute_input": "2022-11-23T05:55:32.725522Z",
     "iopub.status.busy": "2022-11-23T05:55:32.725152Z",
     "iopub.status.idle": "2022-11-23T05:55:32.835936Z",
     "shell.execute_reply": "2022-11-23T05:55:32.834781Z",
     "shell.execute_reply.started": "2022-11-23T05:55:32.725491Z"
    },
    "trusted": true
   },
   "outputs": [
    {
     "name": "stdout",
     "output_type": "stream",
     "text": [
      "\n",
      "Column name:  body_type\n",
      "average           14652\n",
      "fit               12711\n",
      "athletic          11819\n",
      "NaN                5296\n",
      "thin               4711\n",
      "curvy              3924\n",
      "a little extra     2629\n",
      "skinny             1777\n",
      "full figured       1009\n",
      "overweight          444\n",
      "jacked              421\n",
      "used up             355\n",
      "rather not say      198\n",
      "Name: body_type, dtype: int64\n",
      "\n",
      "\n",
      "\n",
      "\n",
      "\n",
      "Column name:  diet\n",
      "NaN                    24395\n",
      "mostly anything        16585\n",
      "anything                6183\n",
      "strictly anything       5113\n",
      "mostly vegetarian       3444\n",
      "mostly other            1007\n",
      "strictly vegetarian      875\n",
      "vegetarian               667\n",
      "strictly other           452\n",
      "mostly vegan             338\n",
      "other                    331\n",
      "strictly vegan           228\n",
      "vegan                    136\n",
      "mostly kosher             86\n",
      "mostly halal              48\n",
      "strictly halal            18\n",
      "strictly kosher           18\n",
      "halal                     11\n",
      "kosher                    11\n",
      "Name: diet, dtype: int64\n",
      "\n",
      "\n",
      "\n",
      "\n",
      "\n",
      "Column name:  drinks\n",
      "socially       41780\n",
      "rarely          5957\n",
      "often           5164\n",
      "not at all      3267\n",
      "NaN             2985\n",
      "very often       471\n",
      "desperately      322\n",
      "Name: drinks, dtype: int64\n",
      "\n",
      "\n",
      "\n",
      "\n",
      "\n",
      "Column name:  drugs\n",
      "never        37724\n",
      "NaN          14080\n",
      "sometimes     7732\n",
      "often          410\n",
      "Name: drugs, dtype: int64\n",
      "\n",
      "\n",
      "\n",
      "\n",
      "\n",
      "Column name:  education\n",
      "graduated from college/university    23959\n",
      "graduated from masters program        8961\n",
      "NaN                                   6628\n",
      "working on college/university         5712\n",
      "working on masters program            1683\n",
      "graduated from two-year college       1531\n",
      "graduated from high school            1428\n",
      "graduated from ph.d program           1272\n",
      "graduated from law school             1122\n",
      "working on two-year college           1074\n",
      "dropped out of college/university      995\n",
      "working on ph.d program                983\n",
      "college/university                     801\n",
      "graduated from space camp              657\n",
      "dropped out of space camp              523\n",
      "graduated from med school              446\n",
      "working on space camp                  445\n",
      "working on law school                  269\n",
      "two-year college                       222\n",
      "working on med school                  212\n",
      "dropped out of two-year college        191\n",
      "dropped out of masters program         140\n",
      "masters program                        136\n",
      "dropped out of ph.d program            127\n",
      "dropped out of high school             102\n",
      "high school                             96\n",
      "working on high school                  87\n",
      "space camp                              58\n",
      "ph.d program                            26\n",
      "law school                              19\n",
      "dropped out of law school               18\n",
      "dropped out of med school               12\n",
      "med school                              11\n",
      "Name: education, dtype: int64\n",
      "\n",
      "\n",
      "\n",
      "\n",
      "\n",
      "Column name:  ethnicity\n",
      "white                                                                 32831\n",
      "asian                                                                  6134\n",
      "NaN                                                                    5680\n",
      "hispanic / latin                                                       2823\n",
      "black                                                                  2008\n",
      "                                                                      ...  \n",
      "middle eastern, indian, white                                             1\n",
      "asian, middle eastern, black, white, other                                1\n",
      "asian, middle eastern, indian, hispanic / latin, white, other             1\n",
      "black, native american, indian, pacific islander, hispanic / latin        1\n",
      "asian, black, indian                                                      1\n",
      "Name: ethnicity, Length: 218, dtype: int64\n",
      "\n",
      "\n",
      "\n",
      "\n",
      "\n",
      "Column name:  job\n",
      "NaN                                  8198\n",
      "other                                7589\n",
      "student                              4882\n",
      "science / tech / engineering         4848\n",
      "computer / hardware / software       4709\n",
      "artistic / musical / writer          4439\n",
      "sales / marketing / biz dev          4391\n",
      "medicine / health                    3680\n",
      "education / academia                 3513\n",
      "executive / management               2373\n",
      "banking / financial / real estate    2266\n",
      "entertainment / media                2250\n",
      "law / legal services                 1381\n",
      "hospitality / travel                 1364\n",
      "construction / craftsmanship         1021\n",
      "clerical / administrative             805\n",
      "political / government                708\n",
      "rather not say                        436\n",
      "transportation                        366\n",
      "unemployed                            273\n",
      "retired                               250\n",
      "military                              204\n",
      "Name: job, dtype: int64\n",
      "\n",
      "\n",
      "\n",
      "\n",
      "\n",
      "Column name:  last_online\n",
      "2012-06-29-22-56    24\n",
      "2012-06-30-21-51    23\n",
      "2012-06-30-22-09    23\n",
      "2012-06-30-22-56    23\n",
      "2012-06-30-23-27    23\n",
      "                    ..\n",
      "2011-08-23-23-25     1\n",
      "2011-11-14-20-18     1\n",
      "2012-05-07-18-14     1\n",
      "2012-05-31-19-01     1\n",
      "2012-06-14-16-51     1\n",
      "Name: last_online, Length: 30123, dtype: int64\n",
      "\n",
      "\n",
      "\n",
      "\n",
      "\n",
      "Column name:  location\n",
      "san francisco, california         31064\n",
      "oakland, california                7214\n",
      "berkeley, california               4212\n",
      "san mateo, california              1331\n",
      "palo alto, california              1064\n",
      "                                  ...  \n",
      "south wellfleet, massachusetts        1\n",
      "orange, california                    1\n",
      "astoria, new york                     1\n",
      "london, united kingdom                1\n",
      "rochester, michigan                   1\n",
      "Name: location, Length: 199, dtype: int64\n",
      "\n",
      "\n",
      "\n",
      "\n",
      "\n",
      "Column name:  offspring\n",
      "NaN                                                    35561\n",
      "doesn&rsquo;t have kids                                 7560\n",
      "doesn&rsquo;t have kids, but might want them            3875\n",
      "doesn&rsquo;t have kids, but wants them                 3565\n",
      "doesn&rsquo;t want kids                                 2927\n",
      "has kids                                                1883\n",
      "has a kid                                               1881\n",
      "doesn&rsquo;t have kids, and doesn&rsquo;t want any     1132\n",
      "has kids, but doesn&rsquo;t want more                    442\n",
      "has a kid, but doesn&rsquo;t want more                   275\n",
      "has a kid, and might want more                           231\n",
      "wants kids                                               225\n",
      "might want kids                                          182\n",
      "has kids, and might want more                            115\n",
      "has a kid, and wants more                                 71\n",
      "has kids, and wants more                                  21\n",
      "Name: offspring, dtype: int64\n",
      "\n",
      "\n",
      "\n",
      "\n",
      "\n",
      "Column name:  orientation\n",
      "straight    51606\n",
      "gay          5573\n",
      "bisexual     2767\n",
      "Name: orientation, dtype: int64\n",
      "\n",
      "\n",
      "\n",
      "\n",
      "\n",
      "Column name:  pets\n",
      "NaN                                19921\n",
      "likes dogs and likes cats          14814\n",
      "likes dogs                          7224\n",
      "likes dogs and has cats             4313\n",
      "has dogs                            4134\n",
      "has dogs and likes cats             2333\n",
      "likes dogs and dislikes cats        2029\n",
      "has dogs and has cats               1474\n",
      "has cats                            1406\n",
      "likes cats                          1063\n",
      "has dogs and dislikes cats           552\n",
      "dislikes dogs and likes cats         240\n",
      "dislikes dogs and dislikes cats      196\n",
      "dislikes cats                        122\n",
      "dislikes dogs and has cats            81\n",
      "dislikes dogs                         44\n",
      "Name: pets, dtype: int64\n",
      "\n",
      "\n",
      "\n",
      "\n",
      "\n",
      "Column name:  religion\n",
      "NaN                                           20226\n",
      "agnosticism                                    2724\n",
      "other                                          2691\n",
      "agnosticism but not too serious about it       2636\n",
      "agnosticism and laughing about it              2496\n",
      "catholicism but not too serious about it       2318\n",
      "atheism                                        2175\n",
      "other and laughing about it                    2119\n",
      "atheism and laughing about it                  2074\n",
      "christianity                                   1957\n",
      "christianity but not too serious about it      1952\n",
      "other but not too serious about it             1554\n",
      "judaism but not too serious about it           1517\n",
      "atheism but not too serious about it           1318\n",
      "catholicism                                    1064\n",
      "christianity and somewhat serious about it      927\n",
      "atheism and somewhat serious about it           848\n",
      "other and somewhat serious about it             846\n",
      "catholicism and laughing about it               726\n",
      "judaism and laughing about it                   681\n",
      "buddhism but not too serious about it           650\n",
      "agnosticism and somewhat serious about it       642\n",
      "judaism                                         612\n",
      "christianity and very serious about it          578\n",
      "atheism and very serious about it               570\n",
      "catholicism and somewhat serious about it       548\n",
      "other and very serious about it                 533\n",
      "buddhism and laughing about it                  466\n",
      "buddhism                                        403\n",
      "christianity and laughing about it              373\n",
      "buddhism and somewhat serious about it          359\n",
      "agnosticism and very serious about it           314\n",
      "judaism and somewhat serious about it           266\n",
      "hinduism but not too serious about it           227\n",
      "hinduism                                        107\n",
      "catholicism and very serious about it           102\n",
      "buddhism and very serious about it               70\n",
      "hinduism and somewhat serious about it           58\n",
      "islam                                            48\n",
      "hinduism and laughing about it                   44\n",
      "islam but not too serious about it               40\n",
      "judaism and very serious about it                22\n",
      "islam and somewhat serious about it              22\n",
      "islam and laughing about it                      16\n",
      "hinduism and very serious about it               14\n",
      "islam and very serious about it                  13\n",
      "Name: religion, dtype: int64\n",
      "\n",
      "\n",
      "\n",
      "\n",
      "\n",
      "Column name:  sex\n",
      "m    35829\n",
      "f    24117\n",
      "Name: sex, dtype: int64\n",
      "\n",
      "\n",
      "\n",
      "\n",
      "\n",
      "Column name:  sign\n",
      "NaN                                              11056\n",
      "gemini and it&rsquo;s fun to think about          1782\n",
      "scorpio and it&rsquo;s fun to think about         1772\n",
      "leo and it&rsquo;s fun to think about             1692\n",
      "libra and it&rsquo;s fun to think about           1649\n",
      "taurus and it&rsquo;s fun to think about          1640\n",
      "cancer and it&rsquo;s fun to think about          1597\n",
      "pisces and it&rsquo;s fun to think about          1592\n",
      "sagittarius and it&rsquo;s fun to think about     1583\n",
      "virgo and it&rsquo;s fun to think about           1574\n",
      "aries and it&rsquo;s fun to think about           1573\n",
      "aquarius and it&rsquo;s fun to think about        1503\n",
      "virgo but it doesn&rsquo;t matter                 1497\n",
      "leo but it doesn&rsquo;t matter                   1457\n",
      "cancer but it doesn&rsquo;t matter                1454\n",
      "gemini but it doesn&rsquo;t matter                1453\n",
      "taurus but it doesn&rsquo;t matter                1450\n",
      "aquarius but it doesn&rsquo;t matter              1408\n",
      "libra but it doesn&rsquo;t matter                 1408\n",
      "capricorn and it&rsquo;s fun to think about       1376\n",
      "sagittarius but it doesn&rsquo;t matter           1375\n",
      "aries but it doesn&rsquo;t matter                 1373\n",
      "capricorn but it doesn&rsquo;t matter             1319\n",
      "pisces but it doesn&rsquo;t matter                1300\n",
      "scorpio but it doesn&rsquo;t matter               1264\n",
      "leo                                               1159\n",
      "libra                                             1098\n",
      "cancer                                            1092\n",
      "virgo                                             1029\n",
      "scorpio                                           1020\n",
      "gemini                                            1013\n",
      "taurus                                            1001\n",
      "aries                                              996\n",
      "pisces                                             992\n",
      "aquarius                                           954\n",
      "sagittarius                                        937\n",
      "capricorn                                          833\n",
      "scorpio and it matters a lot                        78\n",
      "leo and it matters a lot                            66\n",
      "cancer and it matters a lot                         63\n",
      "aquarius and it matters a lot                       63\n",
      "pisces and it matters a lot                         62\n",
      "gemini and it matters a lot                         62\n",
      "libra and it matters a lot                          52\n",
      "taurus and it matters a lot                         49\n",
      "aries and it matters a lot                          47\n",
      "sagittarius and it matters a lot                    47\n",
      "capricorn and it matters a lot                      45\n",
      "virgo and it matters a lot                          41\n",
      "Name: sign, dtype: int64\n",
      "\n",
      "\n",
      "\n",
      "\n",
      "\n",
      "Column name:  smokes\n",
      "no                43896\n",
      "NaN                5512\n",
      "sometimes          3787\n",
      "when drinking      3040\n",
      "yes                2231\n",
      "trying to quit     1480\n",
      "Name: smokes, dtype: int64\n",
      "\n",
      "\n",
      "\n",
      "\n",
      "\n",
      "Column name:  speaks\n",
      "english                                                                21828\n",
      "english (fluently)                                                      6628\n",
      "english (fluently), spanish (poorly)                                    2059\n",
      "english (fluently), spanish (okay)                                      1917\n",
      "english (fluently), spanish (fluently)                                  1288\n",
      "                                                                       ...  \n",
      "english (fluently), urdu (poorly), japanese (poorly), french (okay)        1\n",
      "english, spanish, hindi, c++                                               1\n",
      "english (fluently), japanese (okay), thai (okay), chinese (poorly)         1\n",
      "english (fluently), french (okay), italian (okay), hebrew (okay)           1\n",
      "english (fluently), french, farsi                                          1\n",
      "Name: speaks, Length: 7648, dtype: int64\n",
      "\n",
      "\n",
      "\n",
      "\n",
      "\n",
      "Column name:  status\n",
      "single            55697\n",
      "seeing someone     2064\n",
      "available          1865\n",
      "married             310\n",
      "unknown              10\n",
      "Name: status, dtype: int64\n",
      "\n",
      "\n",
      "\n",
      "\n"
     ]
    }
   ],
   "source": [
    "for col in profiles.columns:\n",
    "    \n",
    "    if not re.match(r\"essay\\d\", col) and profiles[col].dtype== np.dtype('O'):\n",
    "        print()\n",
    "        print(\"Column name: \",col)\n",
    "        print(profiles[col].value_counts(dropna=False))\n",
    "        print('\\n\\n\\n')"
   ]
  },
  {
   "cell_type": "code",
   "execution_count": 18,
   "metadata": {
    "execution": {
     "iopub.execute_input": "2022-11-23T05:55:32.839727Z",
     "iopub.status.busy": "2022-11-23T05:55:32.839365Z",
     "iopub.status.idle": "2022-11-23T05:55:32.854751Z",
     "shell.execute_reply": "2022-11-23T05:55:32.853581Z",
     "shell.execute_reply.started": "2022-11-23T05:55:32.839683Z"
    },
    "trusted": true
   },
   "outputs": [],
   "source": [
    "for loc in profiles.location:\n",
    "    if \",\" not in loc:\n",
    "        print(loc)"
   ]
  },
  {
   "cell_type": "code",
   "execution_count": 19,
   "metadata": {
    "execution": {
     "iopub.execute_input": "2022-11-23T05:55:32.856343Z",
     "iopub.status.busy": "2022-11-23T05:55:32.856021Z",
     "iopub.status.idle": "2022-11-23T05:55:32.874508Z",
     "shell.execute_reply": "2022-11-23T05:55:32.873210Z",
     "shell.execute_reply.started": "2022-11-23T05:55:32.856314Z"
    },
    "trusted": true
   },
   "outputs": [
    {
     "data": {
      "text/plain": "0"
     },
     "execution_count": 19,
     "metadata": {},
     "output_type": "execute_result"
    }
   ],
   "source": [
    "profiles.location.isna().sum()"
   ]
  },
  {
   "cell_type": "markdown",
   "metadata": {},
   "source": [
    "The city name and state name is seperated by a comma in each \"location\".\n",
    "\n",
    "In the column \"offspring\", we can see that every apostrophe is represented by \"%rsquo;\".\n"
   ]
  },
  {
   "cell_type": "code",
   "execution_count": 20,
   "metadata": {
    "execution": {
     "iopub.execute_input": "2022-11-23T05:55:32.876578Z",
     "iopub.status.busy": "2022-11-23T05:55:32.876169Z",
     "iopub.status.idle": "2022-11-23T05:55:32.918835Z",
     "shell.execute_reply": "2022-11-23T05:55:32.917643Z",
     "shell.execute_reply.started": "2022-11-23T05:55:32.876512Z"
    },
    "trusted": true
   },
   "outputs": [
    {
     "data": {
      "text/plain": "doesn't have kids                          7560\ndoesn't have kids, but might want them     3875\ndoesn't have kids, but wants them          3565\ndoesn't want kids                          2927\nhas kids                                   1883\nhas a kid                                  1881\ndoesn't have kids, and doesn't want any    1132\nhas kids, but doesn't want more             442\nhas a kid, but doesn't want more            275\nhas a kid, and might want more              231\nwants kids                                  225\nmight want kids                             182\nhas kids, and might want more               115\nhas a kid, and wants more                    71\nhas kids, and wants more                     21\nName: offspring, dtype: int64"
     },
     "execution_count": 20,
     "metadata": {},
     "output_type": "execute_result"
    }
   ],
   "source": [
    "profiles[\"offspring\"]=profiles[\"offspring\"].apply(lambda x: x.replace(\"&rsquo;\",\"\\'\") if type(x)== str else x)\n",
    "profiles[\"offspring\"].value_counts()"
   ]
  },
  {
   "cell_type": "markdown",
   "metadata": {},
   "source": [
    "### Clean labels\n",
    "\n",
    "We see that sign should only have 12 categories."
   ]
  },
  {
   "cell_type": "code",
   "execution_count": 21,
   "metadata": {
    "execution": {
     "iopub.execute_input": "2022-11-23T05:55:32.920846Z",
     "iopub.status.busy": "2022-11-23T05:55:32.920380Z",
     "iopub.status.idle": "2022-11-23T05:55:33.184079Z",
     "shell.execute_reply": "2022-11-23T05:55:33.182690Z",
     "shell.execute_reply.started": "2022-11-23T05:55:32.920812Z"
    },
    "trusted": true
   },
   "outputs": [
    {
     "name": "stdout",
     "output_type": "stream",
     "text": [
      "number of categories: 12\n",
      "categories: ['gemini' 'cancer' 'pisces' 'aquarius' 'taurus' 'virgo' 'sagittarius'\n",
      " 'leo' nan 'aries' 'libra' 'scorpio' 'capricorn']\n"
     ]
    },
    {
     "data": {
      "text/plain": "leo            4374\ngemini         4310\nlibra          4207\ncancer         4206\nvirgo          4141\ntaurus         4140\nscorpio        4134\naries          3989\npisces         3946\nsagittarius    3942\naquarius       3928\ncapricorn      3573\nName: signsCleaned, dtype: int64"
     },
     "execution_count": 21,
     "metadata": {},
     "output_type": "execute_result"
    }
   ],
   "source": [
    "profiles['signsCleaned']= profiles.sign.str.split().str.get(0)\n",
    "\n",
    "print(\"number of categories:\",profiles.signsCleaned.nunique())\n",
    "print(\"categories:\", profiles.signsCleaned.unique())\n",
    "\n",
    "profiles.signsCleaned.value_counts()"
   ]
  },
  {
   "cell_type": "markdown",
   "metadata": {},
   "source": [
    "We also see that \"religion\" can be cleaned by taking the first word and distilling down to 9 groups."
   ]
  },
  {
   "cell_type": "code",
   "execution_count": 22,
   "metadata": {
    "execution": {
     "iopub.execute_input": "2022-11-23T05:55:33.186165Z",
     "iopub.status.busy": "2022-11-23T05:55:33.185691Z",
     "iopub.status.idle": "2022-11-23T05:55:33.277148Z",
     "shell.execute_reply": "2022-11-23T05:55:33.275886Z",
     "shell.execute_reply.started": "2022-11-23T05:55:33.186122Z"
    },
    "trusted": true
   },
   "outputs": [
    {
     "data": {
      "text/plain": "agnosticism     8812\nother           7743\natheism         6985\nchristianity    5787\ncatholicism     4758\njudaism         3098\nbuddhism        1948\nhinduism         450\nislam            139\nName: religionCleaned, dtype: int64"
     },
     "execution_count": 22,
     "metadata": {},
     "output_type": "execute_result"
    }
   ],
   "source": [
    "profiles[\"religionCleaned\"]=profiles.religion.str.split().str.get(0)\n",
    "profiles[\"religionCleaned\"].value_counts()"
   ]
  },
  {
   "cell_type": "markdown",
   "metadata": {},
   "source": [
    "### Data visualization\n",
    "\n",
    "#### Continuous variables\n",
    "\n",
    "The plots for these variables are shown above.\n",
    "\n",
    "#### Discrete Variables"
   ]
  },
  {
   "cell_type": "code",
   "execution_count": 23,
   "metadata": {
    "execution": {
     "iopub.execute_input": "2022-11-23T05:55:33.279263Z",
     "iopub.status.busy": "2022-11-23T05:55:33.278615Z",
     "iopub.status.idle": "2022-11-23T05:55:33.513027Z",
     "shell.execute_reply": "2022-11-23T05:55:33.511729Z",
     "shell.execute_reply.started": "2022-11-23T05:55:33.279212Z"
    },
    "trusted": true
   },
   "outputs": [
    {
     "data": {
      "text/plain": "<Figure size 432x288 with 1 Axes>",
      "image/png": "[encoded data removed]"
     },
     "metadata": {
      "needs_background": "light"
     },
     "output_type": "display_data"
    }
   ],
   "source": [
    "sns.countplot(data=profiles, x=\"sex\");"
   ]
  },
  {
   "cell_type": "markdown",
   "metadata": {},
   "source": [
    "There are more men than women"
   ]
  },
  {
   "cell_type": "code",
   "execution_count": 24,
   "metadata": {
    "execution": {
     "iopub.execute_input": "2022-11-23T05:55:33.514591Z",
     "iopub.status.busy": "2022-11-23T05:55:33.514264Z",
     "iopub.status.idle": "2022-11-23T05:55:33.823011Z",
     "shell.execute_reply": "2022-11-23T05:55:33.821876Z",
     "shell.execute_reply.started": "2022-11-23T05:55:33.514562Z"
    },
    "trusted": true
   },
   "outputs": [
    {
     "data": {
      "text/plain": "<Figure size 432x288 with 1 Axes>",
      "image/png": "[encoded data removed]"
     },
     "metadata": {
      "needs_background": "light"
     },
     "output_type": "display_data"
    }
   ],
   "source": [
    "sns.countplot(data=profiles, y=\"body_type\");"
   ]
  },
  {
   "cell_type": "markdown",
   "metadata": {},
   "source": [
    "Most people describe themselves as average, fit, or athletic."
   ]
  },
  {
   "cell_type": "code",
   "execution_count": 25,
   "metadata": {
    "execution": {
     "iopub.execute_input": "2022-11-23T05:55:33.824671Z",
     "iopub.status.busy": "2022-11-23T05:55:33.824346Z",
     "iopub.status.idle": "2022-11-23T05:55:34.179528Z",
     "shell.execute_reply": "2022-11-23T05:55:34.178297Z",
     "shell.execute_reply.started": "2022-11-23T05:55:33.824642Z"
    },
    "trusted": true
   },
   "outputs": [
    {
     "data": {
      "text/plain": "<AxesSubplot:xlabel='count', ylabel='body_type'>"
     },
     "execution_count": 25,
     "metadata": {},
     "output_type": "execute_result"
    },
    {
     "data": {
      "text/plain": "<Figure size 432x288 with 1 Axes>",
      "image/png": "[encoded data removed]"
     },
     "metadata": {
      "needs_background": "light"
     },
     "output_type": "display_data"
    }
   ],
   "source": [
    "sns.countplot(data=profiles, y=\"body_type\", hue=\"sex\")"
   ]
  },
  {
   "cell_type": "markdown",
   "metadata": {},
   "source": [
    ".some of body type descriptions are highly gendered: \"curvy\" and \"full figured\" are highly female descriptions, while males use \"a little extra\", and \"overweight\" more often."
   ]
  },
  {
   "cell_type": "code",
   "execution_count": 26,
   "metadata": {
    "execution": {
     "iopub.execute_input": "2022-11-23T05:55:34.181085Z",
     "iopub.status.busy": "2022-11-23T05:55:34.180755Z",
     "iopub.status.idle": "2022-11-23T05:55:34.539949Z",
     "shell.execute_reply": "2022-11-23T05:55:34.538687Z",
     "shell.execute_reply.started": "2022-11-23T05:55:34.181057Z"
    },
    "trusted": true
   },
   "outputs": [
    {
     "data": {
      "text/plain": "<Figure size 432x288 with 1 Axes>",
      "image/png": "[encoded data removed]"
     },
     "metadata": {
      "needs_background": "light"
     },
     "output_type": "display_data"
    }
   ],
   "source": [
    "sns.countplot(data=profiles, y=\"diet\");"
   ]
  },
  {
   "cell_type": "markdown",
   "metadata": {},
   "source": [
    "The majority of users report eating \"mostly anything\", \"anything\" and \"strictly anything,\" and it appears that being open-minded is a common way to attract possible mates."
   ]
  },
  {
   "cell_type": "code",
   "execution_count": 27,
   "metadata": {
    "execution": {
     "iopub.execute_input": "2022-11-23T05:55:34.541430Z",
     "iopub.status.busy": "2022-11-23T05:55:34.541127Z",
     "iopub.status.idle": "2022-11-23T05:55:34.806644Z",
     "shell.execute_reply": "2022-11-23T05:55:34.805507Z",
     "shell.execute_reply.started": "2022-11-23T05:55:34.541403Z"
    },
    "trusted": true
   },
   "outputs": [
    {
     "data": {
      "text/plain": "<AxesSubplot:xlabel='count', ylabel='drinks'>"
     },
     "execution_count": 27,
     "metadata": {},
     "output_type": "execute_result"
    },
    {
     "data": {
      "text/plain": "<Figure size 432x288 with 1 Axes>",
      "image/png": "[encoded data removed]"
     },
     "metadata": {
      "needs_background": "light"
     },
     "output_type": "display_data"
    }
   ],
   "source": [
    "sns.countplot(data=profiles, y=\"drinks\")"
   ]
  },
  {
   "cell_type": "markdown",
   "metadata": {},
   "source": [
    "Mót users only drinks \"socially\"."
   ]
  },
  {
   "cell_type": "code",
   "execution_count": 28,
   "metadata": {
    "execution": {
     "iopub.execute_input": "2022-11-23T05:55:34.814186Z",
     "iopub.status.busy": "2022-11-23T05:55:34.813388Z",
     "iopub.status.idle": "2022-11-23T05:55:35.055562Z",
     "shell.execute_reply": "2022-11-23T05:55:35.054739Z",
     "shell.execute_reply.started": "2022-11-23T05:55:34.814145Z"
    },
    "trusted": true
   },
   "outputs": [
    {
     "data": {
      "text/plain": "<Figure size 432x288 with 1 Axes>",
      "image/png": "[encoded data removed]"
     },
     "metadata": {
      "needs_background": "light"
     },
     "output_type": "display_data"
    }
   ],
   "source": [
    "sns.countplot(data=profiles, x=\"drugs\");"
   ]
  },
  {
   "cell_type": "markdown",
   "metadata": {},
   "source": [
    "Majority of people \"never\" use drugs."
   ]
  },
  {
   "cell_type": "code",
   "execution_count": 29,
   "metadata": {
    "execution": {
     "iopub.execute_input": "2022-11-23T05:55:35.057975Z",
     "iopub.status.busy": "2022-11-23T05:55:35.056840Z",
     "iopub.status.idle": "2022-11-23T05:55:35.570988Z",
     "shell.execute_reply": "2022-11-23T05:55:35.569808Z",
     "shell.execute_reply.started": "2022-11-23T05:55:35.057929Z"
    },
    "trusted": true
   },
   "outputs": [
    {
     "data": {
      "text/plain": "<Figure size 576x576 with 1 Axes>",
      "image/png": "[encoded data removed]"
     },
     "metadata": {
      "needs_background": "light"
     },
     "output_type": "display_data"
    }
   ],
   "source": [
    "plt.figure(figsize=(8,8))\n",
    "\n",
    "sns.countplot(data=profiles, y=\"education\");"
   ]
  },
  {
   "cell_type": "markdown",
   "metadata": {},
   "source": [
    "Above you can see the majority of users are graduate from college/university followed by masters programs and those working on college/university."
   ]
  },
  {
   "cell_type": "code",
   "execution_count": 30,
   "metadata": {
    "execution": {
     "iopub.execute_input": "2022-11-23T05:55:35.573556Z",
     "iopub.status.busy": "2022-11-23T05:55:35.572826Z",
     "iopub.status.idle": "2022-11-23T05:55:35.965209Z",
     "shell.execute_reply": "2022-11-23T05:55:35.964061Z",
     "shell.execute_reply.started": "2022-11-23T05:55:35.573499Z"
    },
    "trusted": true
   },
   "outputs": [
    {
     "data": {
      "text/plain": "<Figure size 432x288 with 1 Axes>",
      "image/png": "[encoded data removed]"
     },
     "metadata": {
      "needs_background": "light"
     },
     "output_type": "display_data"
    }
   ],
   "source": [
    "sns.countplot(data=profiles, y=\"job\");"
   ]
  },
  {
   "cell_type": "markdown",
   "metadata": {},
   "source": [
    "Most people do not find their jobs in the category provided. However, the most common job are tudents, artists, tech, and business folks."
   ]
  },
  {
   "cell_type": "code",
   "execution_count": 31,
   "metadata": {
    "execution": {
     "iopub.execute_input": "2022-11-23T05:55:35.966983Z",
     "iopub.status.busy": "2022-11-23T05:55:35.966592Z",
     "iopub.status.idle": "2022-11-23T05:55:36.465070Z",
     "shell.execute_reply": "2022-11-23T05:55:36.463776Z",
     "shell.execute_reply.started": "2022-11-23T05:55:35.966949Z"
    },
    "trusted": true
   },
   "outputs": [
    {
     "data": {
      "text/plain": "<Figure size 432x288 with 1 Axes>",
      "image/png": "[encoded data removed]"
     },
     "metadata": {
      "needs_background": "light"
     },
     "output_type": "display_data"
    }
   ],
   "source": [
    "sns.countplot(data=profiles, y=\"offspring\");"
   ]
  },
  {
   "cell_type": "markdown",
   "metadata": {},
   "source": [
    "Users usually do not have kid"
   ]
  },
  {
   "cell_type": "code",
   "execution_count": 32,
   "metadata": {
    "execution": {
     "iopub.execute_input": "2022-11-23T05:55:36.466869Z",
     "iopub.status.busy": "2022-11-23T05:55:36.466533Z",
     "iopub.status.idle": "2022-11-23T05:55:36.697666Z",
     "shell.execute_reply": "2022-11-23T05:55:36.696804Z",
     "shell.execute_reply.started": "2022-11-23T05:55:36.466840Z"
    },
    "trusted": true
   },
   "outputs": [
    {
     "data": {
      "text/plain": "<AxesSubplot:xlabel='orientation', ylabel='count'>"
     },
     "execution_count": 32,
     "metadata": {},
     "output_type": "execute_result"
    },
    {
     "data": {
      "text/plain": "<Figure size 432x288 with 1 Axes>",
      "image/png": "[encoded data removed]"
     },
     "metadata": {
      "needs_background": "light"
     },
     "output_type": "display_data"
    }
   ],
   "source": [
    "sns.countplot(data=profiles, x=\"orientation\")"
   ]
  },
  {
   "cell_type": "markdown",
   "metadata": {},
   "source": [
    "Although most of people are straight, the lgbt group has a considerable number. We can investigate the distribution of gender in each category of \"orientation\""
   ]
  },
  {
   "cell_type": "code",
   "execution_count": 33,
   "metadata": {
    "execution": {
     "iopub.execute_input": "2022-11-23T05:55:36.700071Z",
     "iopub.status.busy": "2022-11-23T05:55:36.699369Z",
     "iopub.status.idle": "2022-11-23T05:55:36.996150Z",
     "shell.execute_reply": "2022-11-23T05:55:36.994948Z",
     "shell.execute_reply.started": "2022-11-23T05:55:36.700026Z"
    },
    "trusted": true
   },
   "outputs": [
    {
     "data": {
      "text/plain": "<Figure size 432x288 with 1 Axes>",
      "image/png": "[encoded data removed]"
     },
     "metadata": {
      "needs_background": "light"
     },
     "output_type": "display_data"
    }
   ],
   "source": [
    "sns.countplot(data=profiles, x=\"orientation\", hue = \"sex\");"
   ]
  },
  {
   "cell_type": "markdown",
   "metadata": {},
   "source": [
    "A interesting conclusion from the chart is the majority of bisexual users are female"
   ]
  },
  {
   "cell_type": "code",
   "execution_count": 34,
   "metadata": {
    "execution": {
     "iopub.execute_input": "2022-11-23T05:55:36.998647Z",
     "iopub.status.busy": "2022-11-23T05:55:36.997927Z",
     "iopub.status.idle": "2022-11-23T05:55:37.346570Z",
     "shell.execute_reply": "2022-11-23T05:55:37.345697Z",
     "shell.execute_reply.started": "2022-11-23T05:55:36.998601Z"
    },
    "trusted": true
   },
   "outputs": [
    {
     "data": {
      "text/plain": "<AxesSubplot:xlabel='count', ylabel='pets'>"
     },
     "execution_count": 34,
     "metadata": {},
     "output_type": "execute_result"
    },
    {
     "data": {
      "text/plain": "<Figure size 432x288 with 1 Axes>",
      "image/png": "[encoded data removed]"
     },
     "metadata": {
      "needs_background": "light"
     },
     "output_type": "display_data"
    }
   ],
   "source": [
    "sns.countplot(data=profiles, y=\"pets\")\n",
    "# Dogs seems to be more favourite pet than cats."
   ]
  },
  {
   "cell_type": "code",
   "execution_count": 35,
   "metadata": {
    "execution": {
     "iopub.execute_input": "2022-11-23T05:55:37.349698Z",
     "iopub.status.busy": "2022-11-23T05:55:37.348951Z",
     "iopub.status.idle": "2022-11-23T05:55:37.650021Z",
     "shell.execute_reply": "2022-11-23T05:55:37.649165Z",
     "shell.execute_reply.started": "2022-11-23T05:55:37.349654Z"
    },
    "trusted": true
   },
   "outputs": [
    {
     "data": {
      "text/plain": "<AxesSubplot:xlabel='count', ylabel='religionCleaned'>"
     },
     "execution_count": 35,
     "metadata": {},
     "output_type": "execute_result"
    },
    {
     "data": {
      "text/plain": "<Figure size 432x288 with 1 Axes>",
      "image/png": "[encoded data removed]"
     },
     "metadata": {
      "needs_background": "light"
     },
     "output_type": "display_data"
    }
   ],
   "source": [
    "sns.countplot(data=profiles, y=\"religionCleaned\")"
   ]
  },
  {
   "cell_type": "markdown",
   "metadata": {},
   "source": [
    "We can see that the majority was not very religious"
   ]
  },
  {
   "cell_type": "code",
   "execution_count": 36,
   "metadata": {
    "execution": {
     "iopub.execute_input": "2022-11-23T05:55:37.652628Z",
     "iopub.status.busy": "2022-11-23T05:55:37.651836Z",
     "iopub.status.idle": "2022-11-23T05:55:37.986310Z",
     "shell.execute_reply": "2022-11-23T05:55:37.985107Z",
     "shell.execute_reply.started": "2022-11-23T05:55:37.652583Z"
    },
    "trusted": true
   },
   "outputs": [
    {
     "data": {
      "text/plain": "<AxesSubplot:xlabel='count', ylabel='signsCleaned'>"
     },
     "execution_count": 36,
     "metadata": {},
     "output_type": "execute_result"
    },
    {
     "data": {
      "text/plain": "<Figure size 432x288 with 1 Axes>",
      "image/png": "[encoded data removed]"
     },
     "metadata": {
      "needs_background": "light"
     },
     "output_type": "display_data"
    }
   ],
   "source": [
    "sns.countplot(data=profiles, y=\"signsCleaned\")"
   ]
  },
  {
   "cell_type": "markdown",
   "metadata": {},
   "source": [
    "THere are even distribution between signs."
   ]
  },
  {
   "cell_type": "code",
   "execution_count": 37,
   "metadata": {
    "execution": {
     "iopub.execute_input": "2022-11-23T05:55:37.988363Z",
     "iopub.status.busy": "2022-11-23T05:55:37.987918Z",
     "iopub.status.idle": "2022-11-23T05:55:38.232633Z",
     "shell.execute_reply": "2022-11-23T05:55:38.231512Z",
     "shell.execute_reply.started": "2022-11-23T05:55:37.988327Z"
    },
    "trusted": true
   },
   "outputs": [
    {
     "data": {
      "text/plain": "<AxesSubplot:xlabel='smokes', ylabel='count'>"
     },
     "execution_count": 37,
     "metadata": {},
     "output_type": "execute_result"
    },
    {
     "data": {
      "text/plain": "<Figure size 432x288 with 1 Axes>",
      "image/png": "[encoded data removed]"
     },
     "metadata": {
      "needs_background": "light"
     },
     "output_type": "display_data"
    }
   ],
   "source": [
    "sns.countplot(data=profiles, x=\"smokes\")"
   ]
  },
  {
   "cell_type": "markdown",
   "metadata": {},
   "source": [
    "Most of users do not smoke"
   ]
  },
  {
   "cell_type": "code",
   "execution_count": 38,
   "metadata": {
    "execution": {
     "iopub.execute_input": "2022-11-23T05:55:38.234119Z",
     "iopub.status.busy": "2022-11-23T05:55:38.233807Z",
     "iopub.status.idle": "2022-11-23T05:55:38.485212Z",
     "shell.execute_reply": "2022-11-23T05:55:38.483786Z",
     "shell.execute_reply.started": "2022-11-23T05:55:38.234092Z"
    },
    "trusted": true
   },
   "outputs": [
    {
     "data": {
      "text/plain": "<AxesSubplot:xlabel='status', ylabel='count'>"
     },
     "execution_count": 38,
     "metadata": {},
     "output_type": "execute_result"
    },
    {
     "data": {
      "text/plain": "<Figure size 432x288 with 1 Axes>",
      "image/png": "[encoded data removed]"
     },
     "metadata": {
      "needs_background": "light"
     },
     "output_type": "display_data"
    }
   ],
   "source": [
    "sns.countplot(data=profiles, x=\"status\")"
   ]
  },
  {
   "cell_type": "markdown",
   "metadata": {},
   "source": [
    "The majority is single. This is predictable since people usually use a dating app to find a relationship\n",
    "\n",
    "\n",
    "## Predict sign of a user\n",
    "People said your zodiac sign will show some traits of a person. Does the opposite happen when we use a person's characteristics to predict his/her sign?\n",
    "\n",
    "### Preprocessing\n",
    "\n",
    "First we need to select the varaibles that seem to be a good predictor for \"sign\". For example, \"age\" or \"location\" seems not to be related to \"sign\""
   ]
  },
  {
   "cell_type": "code",
   "execution_count": 39,
   "metadata": {
    "execution": {
     "iopub.execute_input": "2022-11-23T05:55:38.487315Z",
     "iopub.status.busy": "2022-11-23T05:55:38.486640Z",
     "iopub.status.idle": "2022-11-23T05:55:38.593360Z",
     "shell.execute_reply": "2022-11-23T05:55:38.592049Z",
     "shell.execute_reply.started": "2022-11-23T05:55:38.487260Z"
    },
    "trusted": true
   },
   "outputs": [],
   "source": [
    "predictor_cols=['body_type', 'diet', 'orientation', 'pets', 'religionCleaned','sex', 'job', 'signsCleaned']\n",
    "df = profiles[predictor_cols].dropna() #remove nan value"
   ]
  },
  {
   "cell_type": "code",
   "execution_count": 40,
   "metadata": {
    "execution": {
     "iopub.execute_input": "2022-11-23T05:55:38.595075Z",
     "iopub.status.busy": "2022-11-23T05:55:38.594702Z",
     "iopub.status.idle": "2022-11-23T05:55:38.603744Z",
     "shell.execute_reply": "2022-11-23T05:55:38.602140Z",
     "shell.execute_reply.started": "2022-11-23T05:55:38.595045Z"
    },
    "trusted": true
   },
   "outputs": [
    {
     "data": {
      "text/plain": "(16453, 8)"
     },
     "execution_count": 40,
     "metadata": {},
     "output_type": "execute_result"
    }
   ],
   "source": [
    "df.shape"
   ]
  },
  {
   "cell_type": "markdown",
   "metadata": {},
   "source": [
    "Next step, we will use the pandas .get_dummies() method which creates a binary or “dummy” variable for each category. The reason is that some models requires numeric variable value such as decision tree"
   ]
  },
  {
   "cell_type": "code",
   "execution_count": 41,
   "metadata": {
    "execution": {
     "iopub.execute_input": "2022-11-23T05:55:38.605480Z",
     "iopub.status.busy": "2022-11-23T05:55:38.605141Z",
     "iopub.status.idle": "2022-11-23T05:55:38.674145Z",
     "shell.execute_reply": "2022-11-23T05:55:38.672511Z",
     "shell.execute_reply.started": "2022-11-23T05:55:38.605450Z"
    },
    "trusted": true
   },
   "outputs": [],
   "source": [
    "for col in predictor_cols[:-1]: #exclude the label variable\n",
    "    df = pd.get_dummies(df, columns=[col], prefix = [col])"
   ]
  },
  {
   "cell_type": "code",
   "execution_count": 42,
   "metadata": {
    "execution": {
     "iopub.execute_input": "2022-11-23T05:55:38.676036Z",
     "iopub.status.busy": "2022-11-23T05:55:38.675618Z",
     "iopub.status.idle": "2022-11-23T05:55:38.717614Z",
     "shell.execute_reply": "2022-11-23T05:55:38.716408Z",
     "shell.execute_reply.started": "2022-11-23T05:55:38.676001Z"
    },
    "trusted": true
   },
   "outputs": [
    {
     "data": {
      "text/plain": "  signsCleaned  body_type_a little extra  body_type_athletic  \\\n0       gemini                         1                   0   \n1       cancer                         0                   0   \n5       taurus                         0                   0   \n7  sagittarius                         0                   0   \n9       cancer                         0                   1   \n\n   body_type_average  body_type_curvy  body_type_fit  body_type_full figured  \\\n0                  0                0              0                       0   \n1                  1                0              0                       0   \n5                  1                0              0                       0   \n7                  1                0              0                       0   \n9                  0                0              0                       0   \n\n   body_type_jacked  body_type_overweight  body_type_rather not say  \\\n0                 0                     0                         0   \n1                 0                     0                         0   \n5                 0                     0                         0   \n7                 0                     0                         0   \n9                 0                     0                         0   \n\n   body_type_skinny  body_type_thin  body_type_used up  diet_anything  \\\n0                 0               0                  0              0   \n1                 0               0                  0              0   \n5                 0               0                  0              0   \n7                 0               0                  0              0   \n9                 0               0                  0              0   \n\n   diet_halal  diet_kosher  diet_mostly anything  diet_mostly halal  \\\n0           0            0                     0                  0   \n1           0            0                     0                  0   \n5           0            0                     1                  0   \n7           0            0                     1                  0   \n9           0            0                     1                  0   \n\n   diet_mostly kosher  diet_mostly other  diet_mostly vegan  \\\n0                   0                  0                  0   \n1                   0                  1                  0   \n5                   0                  0                  0   \n7                   0                  0                  0   \n9                   0                  0                  0   \n\n   diet_mostly vegetarian  diet_other  diet_strictly anything  \\\n0                       0           0                       1   \n1                       0           0                       0   \n5                       0           0                       0   \n7                       0           0                       0   \n9                       0           0                       0   \n\n   diet_strictly halal  diet_strictly kosher  diet_strictly other  \\\n0                    0                     0                    0   \n1                    0                     0                    0   \n5                    0                     0                    0   \n7                    0                     0                    0   \n9                    0                     0                    0   \n\n   diet_strictly vegan  diet_strictly vegetarian  diet_vegan  diet_vegetarian  \\\n0                    0                         0           0                0   \n1                    0                         0           0                0   \n5                    0                         0           0                0   \n7                    0                         0           0                0   \n9                    0                         0           0                0   \n\n   orientation_bisexual  orientation_gay  orientation_straight  \\\n0                     0                0                     1   \n1                     0                0                     1   \n5                     0                0                     1   \n7                     0                0                     1   \n9                     0                0                     1   \n\n   pets_dislikes cats  pets_dislikes dogs  \\\n0                   0                   0   \n1                   0                   0   \n5                   0                   0   \n7                   0                   0   \n9                   0                   0   \n\n   pets_dislikes dogs and dislikes cats  pets_dislikes dogs and has cats  \\\n0                                     0                                0   \n1                                     0                                0   \n5                                     0                                0   \n7                                     0                                0   \n9                                     0                                0   \n\n   pets_dislikes dogs and likes cats  pets_has cats  pets_has dogs  \\\n0                                  0              0              0   \n1                                  0              0              0   \n5                                  0              0              0   \n7                                  0              0              0   \n9                                  0              0              0   \n\n   pets_has dogs and dislikes cats  pets_has dogs and has cats  \\\n0                                0                           0   \n1                                0                           0   \n5                                0                           0   \n7                                0                           0   \n9                                0                           0   \n\n   pets_has dogs and likes cats  pets_likes cats  pets_likes dogs  \\\n0                             0                0                0   \n1                             0                0                0   \n5                             0                1                0   \n7                             0                0                0   \n9                             0                0                0   \n\n   pets_likes dogs and dislikes cats  pets_likes dogs and has cats  \\\n0                                  0                             0   \n1                                  0                             0   \n5                                  0                             0   \n7                                  0                             0   \n9                                  0                             0   \n\n   pets_likes dogs and likes cats  religionCleaned_agnosticism  \\\n0                               1                            1   \n1                               1                            1   \n5                               0                            0   \n7                               1                            0   \n9                               1                            0   \n\n   religionCleaned_atheism  religionCleaned_buddhism  \\\n0                        0                         0   \n1                        0                         0   \n5                        1                         0   \n7                        0                         0   \n9                        1                         0   \n\n   religionCleaned_catholicism  religionCleaned_christianity  \\\n0                            0                             0   \n1                            0                             0   \n5                            0                             0   \n7                            0                             1   \n9                            0                             0   \n\n   religionCleaned_hinduism  religionCleaned_islam  religionCleaned_judaism  \\\n0                         0                      0                        0   \n1                         0                      0                        0   \n5                         0                      0                        0   \n7                         0                      0                        0   \n9                         0                      0                        0   \n\n   religionCleaned_other  sex_f  sex_m  job_artistic / musical / writer  \\\n0                      0      0      1                                0   \n1                      0      0      1                                0   \n5                      0      0      1                                0   \n7                      0      1      0                                1   \n9                      0      0      1                                0   \n\n   job_banking / financial / real estate  job_clerical / administrative  \\\n0                                      0                              0   \n1                                      0                              0   \n5                                      0                              0   \n7                                      0                              0   \n9                                      0                              0   \n\n   job_computer / hardware / software  job_construction / craftsmanship  \\\n0                                   0                                 0   \n1                                   0                                 0   \n5                                   1                                 0   \n7                                   0                                 0   \n9                                   0                                 0   \n\n   job_education / academia  job_entertainment / media  \\\n0                         0                          0   \n1                         0                          0   \n5                         0                          0   \n7                         0                          0   \n9                         0                          0   \n\n   job_executive / management  job_hospitality / travel  \\\n0                           0                         0   \n1                           0                         1   \n5                           0                         0   \n7                           0                         0   \n9                           0                         0   \n\n   job_law / legal services  job_medicine / health  job_military  job_other  \\\n0                         0                      0             0          0   \n1                         0                      0             0          0   \n5                         0                      0             0          0   \n7                         0                      0             0          0   \n9                         0                      0             0          0   \n\n   job_political / government  job_rather not say  job_retired  \\\n0                           0                   0            0   \n1                           0                   0            0   \n5                           0                   0            0   \n7                           0                   0            0   \n9                           0                   0            0   \n\n   job_sales / marketing / biz dev  job_science / tech / engineering  \\\n0                                0                                 0   \n1                                0                                 0   \n5                                0                                 0   \n7                                0                                 0   \n9                                0                                 0   \n\n   job_student  job_transportation  job_unemployed  \n0            0                   1               0  \n1            0                   0               0  \n5            0                   0               0  \n7            0                   0               0  \n9            1                   0               0  ",
      "text/html": "<div>\n<style scoped>\n    .dataframe tbody tr th:only-of-type {\n        vertical-align: middle;\n    }\n\n    .dataframe tbody tr th {\n        vertical-align: top;\n    }\n\n    .dataframe thead th {\n        text-align: right;\n    }\n</style>\n<table border=\"1\" class=\"dataframe\">\n  <thead>\n    <tr style=\"text-align: right;\">\n      <th></th>\n      <th>signsCleaned</th>\n      <th>body_type_a little extra</th>\n      <th>body_type_athletic</th>\n      <th>body_type_average</th>\n      <th>body_type_curvy</th>\n      <th>body_type_fit</th>\n      <th>body_type_full figured</th>\n      <th>body_type_jacked</th>\n      <th>body_type_overweight</th>\n      <th>body_type_rather not say</th>\n      <th>body_type_skinny</th>\n      <th>body_type_thin</th>\n      <th>body_type_used up</th>\n      <th>diet_anything</th>\n      <th>diet_halal</th>\n      <th>diet_kosher</th>\n      <th>diet_mostly anything</th>\n      <th>diet_mostly halal</th>\n      <th>diet_mostly kosher</th>\n      <th>diet_mostly other</th>\n      <th>diet_mostly vegan</th>\n      <th>diet_mostly vegetarian</th>\n      <th>diet_other</th>\n      <th>diet_strictly anything</th>\n      <th>diet_strictly halal</th>\n      <th>diet_strictly kosher</th>\n      <th>diet_strictly other</th>\n      <th>diet_strictly vegan</th>\n      <th>diet_strictly vegetarian</th>\n      <th>diet_vegan</th>\n      <th>diet_vegetarian</th>\n      <th>orientation_bisexual</th>\n      <th>orientation_gay</th>\n      <th>orientation_straight</th>\n      <th>pets_dislikes cats</th>\n      <th>pets_dislikes dogs</th>\n      <th>pets_dislikes dogs and dislikes cats</th>\n      <th>pets_dislikes dogs and has cats</th>\n      <th>pets_dislikes dogs and likes cats</th>\n      <th>pets_has cats</th>\n      <th>pets_has dogs</th>\n      <th>pets_has dogs and dislikes cats</th>\n      <th>pets_has dogs and has cats</th>\n      <th>pets_has dogs and likes cats</th>\n      <th>pets_likes cats</th>\n      <th>pets_likes dogs</th>\n      <th>pets_likes dogs and dislikes cats</th>\n      <th>pets_likes dogs and has cats</th>\n      <th>pets_likes dogs and likes cats</th>\n      <th>religionCleaned_agnosticism</th>\n      <th>religionCleaned_atheism</th>\n      <th>religionCleaned_buddhism</th>\n      <th>religionCleaned_catholicism</th>\n      <th>religionCleaned_christianity</th>\n      <th>religionCleaned_hinduism</th>\n      <th>religionCleaned_islam</th>\n      <th>religionCleaned_judaism</th>\n      <th>religionCleaned_other</th>\n      <th>sex_f</th>\n      <th>sex_m</th>\n      <th>job_artistic / musical / writer</th>\n      <th>job_banking / financial / real estate</th>\n      <th>job_clerical / administrative</th>\n      <th>job_computer / hardware / software</th>\n      <th>job_construction / craftsmanship</th>\n      <th>job_education / academia</th>\n      <th>job_entertainment / media</th>\n      <th>job_executive / management</th>\n      <th>job_hospitality / travel</th>\n      <th>job_law / legal services</th>\n      <th>job_medicine / health</th>\n      <th>job_military</th>\n      <th>job_other</th>\n      <th>job_political / government</th>\n      <th>job_rather not say</th>\n      <th>job_retired</th>\n      <th>job_sales / marketing / biz dev</th>\n      <th>job_science / tech / engineering</th>\n      <th>job_student</th>\n      <th>job_transportation</th>\n      <th>job_unemployed</th>\n    </tr>\n  </thead>\n  <tbody>\n    <tr>\n      <th>0</th>\n      <td>gemini</td>\n      <td>1</td>\n      <td>0</td>\n      <td>0</td>\n      <td>0</td>\n      <td>0</td>\n      <td>0</td>\n      <td>0</td>\n      <td>0</td>\n      <td>0</td>\n      <td>0</td>\n      <td>0</td>\n      <td>0</td>\n      <td>0</td>\n      <td>0</td>\n      <td>0</td>\n      <td>0</td>\n      <td>0</td>\n      <td>0</td>\n      <td>0</td>\n      <td>0</td>\n      <td>0</td>\n      <td>0</td>\n      <td>1</td>\n      <td>0</td>\n      <td>0</td>\n      <td>0</td>\n      <td>0</td>\n      <td>0</td>\n      <td>0</td>\n      <td>0</td>\n      <td>0</td>\n      <td>0</td>\n      <td>1</td>\n      <td>0</td>\n      <td>0</td>\n      <td>0</td>\n      <td>0</td>\n      <td>0</td>\n      <td>0</td>\n      <td>0</td>\n      <td>0</td>\n      <td>0</td>\n      <td>0</td>\n      <td>0</td>\n      <td>0</td>\n      <td>0</td>\n      <td>0</td>\n      <td>1</td>\n      <td>1</td>\n      <td>0</td>\n      <td>0</td>\n      <td>0</td>\n      <td>0</td>\n      <td>0</td>\n      <td>0</td>\n      <td>0</td>\n      <td>0</td>\n      <td>0</td>\n      <td>1</td>\n      <td>0</td>\n      <td>0</td>\n      <td>0</td>\n      <td>0</td>\n      <td>0</td>\n      <td>0</td>\n      <td>0</td>\n      <td>0</td>\n      <td>0</td>\n      <td>0</td>\n      <td>0</td>\n      <td>0</td>\n      <td>0</td>\n      <td>0</td>\n      <td>0</td>\n      <td>0</td>\n      <td>0</td>\n      <td>0</td>\n      <td>0</td>\n      <td>1</td>\n      <td>0</td>\n    </tr>\n    <tr>\n      <th>1</th>\n      <td>cancer</td>\n      <td>0</td>\n      <td>0</td>\n      <td>1</td>\n      <td>0</td>\n      <td>0</td>\n      <td>0</td>\n      <td>0</td>\n      <td>0</td>\n      <td>0</td>\n      <td>0</td>\n      <td>0</td>\n      <td>0</td>\n      <td>0</td>\n      <td>0</td>\n      <td>0</td>\n      <td>0</td>\n      <td>0</td>\n      <td>0</td>\n      <td>1</td>\n      <td>0</td>\n      <td>0</td>\n      <td>0</td>\n      <td>0</td>\n      <td>0</td>\n      <td>0</td>\n      <td>0</td>\n      <td>0</td>\n      <td>0</td>\n      <td>0</td>\n      <td>0</td>\n      <td>0</td>\n      <td>0</td>\n      <td>1</td>\n      <td>0</td>\n      <td>0</td>\n      <td>0</td>\n      <td>0</td>\n      <td>0</td>\n      <td>0</td>\n      <td>0</td>\n      <td>0</td>\n      <td>0</td>\n      <td>0</td>\n      <td>0</td>\n      <td>0</td>\n      <td>0</td>\n      <td>0</td>\n      <td>1</td>\n      <td>1</td>\n      <td>0</td>\n      <td>0</td>\n      <td>0</td>\n      <td>0</td>\n      <td>0</td>\n      <td>0</td>\n      <td>0</td>\n      <td>0</td>\n      <td>0</td>\n      <td>1</td>\n      <td>0</td>\n      <td>0</td>\n      <td>0</td>\n      <td>0</td>\n      <td>0</td>\n      <td>0</td>\n      <td>0</td>\n      <td>0</td>\n      <td>1</td>\n      <td>0</td>\n      <td>0</td>\n      <td>0</td>\n      <td>0</td>\n      <td>0</td>\n      <td>0</td>\n      <td>0</td>\n      <td>0</td>\n      <td>0</td>\n      <td>0</td>\n      <td>0</td>\n      <td>0</td>\n    </tr>\n    <tr>\n      <th>5</th>\n      <td>taurus</td>\n      <td>0</td>\n      <td>0</td>\n      <td>1</td>\n      <td>0</td>\n      <td>0</td>\n      <td>0</td>\n      <td>0</td>\n      <td>0</td>\n      <td>0</td>\n      <td>0</td>\n      <td>0</td>\n      <td>0</td>\n      <td>0</td>\n      <td>0</td>\n      <td>0</td>\n      <td>1</td>\n      <td>0</td>\n      <td>0</td>\n      <td>0</td>\n      <td>0</td>\n      <td>0</td>\n      <td>0</td>\n      <td>0</td>\n      <td>0</td>\n      <td>0</td>\n      <td>0</td>\n      <td>0</td>\n      <td>0</td>\n      <td>0</td>\n      <td>0</td>\n      <td>0</td>\n      <td>0</td>\n      <td>1</td>\n      <td>0</td>\n      <td>0</td>\n      <td>0</td>\n      <td>0</td>\n      <td>0</td>\n      <td>0</td>\n      <td>0</td>\n      <td>0</td>\n      <td>0</td>\n      <td>0</td>\n      <td>1</td>\n      <td>0</td>\n      <td>0</td>\n      <td>0</td>\n      <td>0</td>\n      <td>0</td>\n      <td>1</td>\n      <td>0</td>\n      <td>0</td>\n      <td>0</td>\n      <td>0</td>\n      <td>0</td>\n      <td>0</td>\n      <td>0</td>\n      <td>0</td>\n      <td>1</td>\n      <td>0</td>\n      <td>0</td>\n      <td>0</td>\n      <td>1</td>\n      <td>0</td>\n      <td>0</td>\n      <td>0</td>\n      <td>0</td>\n      <td>0</td>\n      <td>0</td>\n      <td>0</td>\n      <td>0</td>\n      <td>0</td>\n      <td>0</td>\n      <td>0</td>\n      <td>0</td>\n      <td>0</td>\n      <td>0</td>\n      <td>0</td>\n      <td>0</td>\n      <td>0</td>\n    </tr>\n    <tr>\n      <th>7</th>\n      <td>sagittarius</td>\n      <td>0</td>\n      <td>0</td>\n      <td>1</td>\n      <td>0</td>\n      <td>0</td>\n      <td>0</td>\n      <td>0</td>\n      <td>0</td>\n      <td>0</td>\n      <td>0</td>\n      <td>0</td>\n      <td>0</td>\n      <td>0</td>\n      <td>0</td>\n      <td>0</td>\n      <td>1</td>\n      <td>0</td>\n      <td>0</td>\n      <td>0</td>\n      <td>0</td>\n      <td>0</td>\n      <td>0</td>\n      <td>0</td>\n      <td>0</td>\n      <td>0</td>\n      <td>0</td>\n      <td>0</td>\n      <td>0</td>\n      <td>0</td>\n      <td>0</td>\n      <td>0</td>\n      <td>0</td>\n      <td>1</td>\n      <td>0</td>\n      <td>0</td>\n      <td>0</td>\n      <td>0</td>\n      <td>0</td>\n      <td>0</td>\n      <td>0</td>\n      <td>0</td>\n      <td>0</td>\n      <td>0</td>\n      <td>0</td>\n      <td>0</td>\n      <td>0</td>\n      <td>0</td>\n      <td>1</td>\n      <td>0</td>\n      <td>0</td>\n      <td>0</td>\n      <td>0</td>\n      <td>1</td>\n      <td>0</td>\n      <td>0</td>\n      <td>0</td>\n      <td>0</td>\n      <td>1</td>\n      <td>0</td>\n      <td>1</td>\n      <td>0</td>\n      <td>0</td>\n      <td>0</td>\n      <td>0</td>\n      <td>0</td>\n      <td>0</td>\n      <td>0</td>\n      <td>0</td>\n      <td>0</td>\n      <td>0</td>\n      <td>0</td>\n      <td>0</td>\n      <td>0</td>\n      <td>0</td>\n      <td>0</td>\n      <td>0</td>\n      <td>0</td>\n      <td>0</td>\n      <td>0</td>\n      <td>0</td>\n    </tr>\n    <tr>\n      <th>9</th>\n      <td>cancer</td>\n      <td>0</td>\n      <td>1</td>\n      <td>0</td>\n      <td>0</td>\n      <td>0</td>\n      <td>0</td>\n      <td>0</td>\n      <td>0</td>\n      <td>0</td>\n      <td>0</td>\n      <td>0</td>\n      <td>0</td>\n      <td>0</td>\n      <td>0</td>\n      <td>0</td>\n      <td>1</td>\n      <td>0</td>\n      <td>0</td>\n      <td>0</td>\n      <td>0</td>\n      <td>0</td>\n      <td>0</td>\n      <td>0</td>\n      <td>0</td>\n      <td>0</td>\n      <td>0</td>\n      <td>0</td>\n      <td>0</td>\n      <td>0</td>\n      <td>0</td>\n      <td>0</td>\n      <td>0</td>\n      <td>1</td>\n      <td>0</td>\n      <td>0</td>\n      <td>0</td>\n      <td>0</td>\n      <td>0</td>\n      <td>0</td>\n      <td>0</td>\n      <td>0</td>\n      <td>0</td>\n      <td>0</td>\n      <td>0</td>\n      <td>0</td>\n      <td>0</td>\n      <td>0</td>\n      <td>1</td>\n      <td>0</td>\n      <td>1</td>\n      <td>0</td>\n      <td>0</td>\n      <td>0</td>\n      <td>0</td>\n      <td>0</td>\n      <td>0</td>\n      <td>0</td>\n      <td>0</td>\n      <td>1</td>\n      <td>0</td>\n      <td>0</td>\n      <td>0</td>\n      <td>0</td>\n      <td>0</td>\n      <td>0</td>\n      <td>0</td>\n      <td>0</td>\n      <td>0</td>\n      <td>0</td>\n      <td>0</td>\n      <td>0</td>\n      <td>0</td>\n      <td>0</td>\n      <td>0</td>\n      <td>0</td>\n      <td>0</td>\n      <td>0</td>\n      <td>1</td>\n      <td>0</td>\n      <td>0</td>\n    </tr>\n  </tbody>\n</table>\n</div>"
     },
     "execution_count": 42,
     "metadata": {},
     "output_type": "execute_result"
    }
   ],
   "source": [
    "df.head()"
   ]
  },
  {
   "cell_type": "markdown",
   "metadata": {},
   "source": [
    "Above we shown that there are even distribution between categories in \"signsCleaned\". Therefore, class im balance is not the problem.\n",
    "\n",
    "Next we split the dataframe into training set (75%) and validation set (25%)"
   ]
  },
  {
   "cell_type": "code",
   "execution_count": 43,
   "metadata": {
    "execution": {
     "iopub.execute_input": "2022-11-23T05:55:38.719963Z",
     "iopub.status.busy": "2022-11-23T05:55:38.719590Z",
     "iopub.status.idle": "2022-11-23T05:55:38.862004Z",
     "shell.execute_reply": "2022-11-23T05:55:38.860696Z",
     "shell.execute_reply.started": "2022-11-23T05:55:38.719930Z"
    },
    "trusted": true
   },
   "outputs": [],
   "source": [
    "col_length = len(df.columns)\n",
    "\n",
    "#Y is the target column, X has the rest\n",
    "X = df.iloc[:, 1:col_length]\n",
    "Y = df.iloc[:, 0:1]\n",
    "\n",
    "#Validation chunk size\n",
    "val_size = 0.25\n",
    "\n",
    "#Split the data into chunks\n",
    "from sklearn.model_selection import train_test_split \n",
    "X_train, X_val, Y_train, Y_val = train_test_split(X, Y, test_size=val_size, random_state = 0)"
   ]
  },
  {
   "cell_type": "code",
   "execution_count": 44,
   "metadata": {
    "execution": {
     "iopub.execute_input": "2022-11-23T05:55:38.864289Z",
     "iopub.status.busy": "2022-11-23T05:55:38.863588Z",
     "iopub.status.idle": "2022-11-23T05:55:38.871676Z",
     "shell.execute_reply": "2022-11-23T05:55:38.869999Z",
     "shell.execute_reply.started": "2022-11-23T05:55:38.864242Z"
    },
    "trusted": true
   },
   "outputs": [],
   "source": [
    "#Currently Y_train and Y_val is a Dataframe, we need to flatten them\n",
    "Y_train = Y_train.to_numpy().flatten()\n",
    "Y_val = Y_val.to_numpy().flatten()"
   ]
  },
  {
   "cell_type": "markdown",
   "metadata": {},
   "source": [
    "### Prediction\n",
    "\n",
    "#### Selecting model\n",
    "\n",
    "I decide to selects three models: Logistic Regression, Decision Trees, and KNN to predict the sign of a person."
   ]
  },
  {
   "cell_type": "code",
   "execution_count": 45,
   "metadata": {
    "execution": {
     "iopub.execute_input": "2022-11-23T05:55:38.874093Z",
     "iopub.status.busy": "2022-11-23T05:55:38.873670Z",
     "iopub.status.idle": "2022-11-23T05:55:39.109263Z",
     "shell.execute_reply": "2022-11-23T05:55:39.108057Z",
     "shell.execute_reply.started": "2022-11-23T05:55:38.874041Z"
    },
    "trusted": true
   },
   "outputs": [],
   "source": [
    "from sklearn.linear_model import LogisticRegression\n",
    "from sklearn.tree import DecisionTreeClassifier\n",
    "from sklearn.neighbors import KNeighborsClassifier\n",
    "from sklearn.ensemble import RandomForestClassifier"
   ]
  },
  {
   "cell_type": "markdown",
   "metadata": {},
   "source": [
    "### Evaluation Metrics\n",
    "\n",
    "There are several ways to evaluate the models including:\n",
    "- **Accuracy:** is the correct values divided by total values\n",
    "- **Precision:** is the True Positives divided by the sum of True Positives and False Negatives. So precision is the values of the true positives divided by the actual positive values.\n",
    "- **Recall:** is the True Positives divided by the sum of True Positives and False Positives. So recall is the values of the true positives divided by the positive guesses.\n",
    "- **F1-score:** is a blended score of precision and recall which balances both values.\n",
    "- **Macro Avg:** is the unweighted mean value of precision and recall. \n",
    "- **Weighted Avg:** is the weighted mean value of precision and recall by the support values for each class.\n",
    "- **Support:** is the number of observations in class to predict.\n",
    "\n",
    "Because all class has the same weight, accuracy should be the main metric to evaluate the model"
   ]
  },
  {
   "cell_type": "code",
   "execution_count": 46,
   "metadata": {
    "execution": {
     "iopub.execute_input": "2022-11-23T05:55:39.111065Z",
     "iopub.status.busy": "2022-11-23T05:55:39.110745Z",
     "iopub.status.idle": "2022-11-23T05:55:39.117336Z",
     "shell.execute_reply": "2022-11-23T05:55:39.115665Z",
     "shell.execute_reply.started": "2022-11-23T05:55:39.111038Z"
    },
    "trusted": true
   },
   "outputs": [],
   "source": [
    "from sklearn.metrics import classification_report"
   ]
  },
  {
   "cell_type": "markdown",
   "metadata": {},
   "source": [
    "### LogisticRegression"
   ]
  },
  {
   "cell_type": "code",
   "execution_count": 47,
   "metadata": {
    "execution": {
     "iopub.execute_input": "2022-11-23T05:55:39.119348Z",
     "iopub.status.busy": "2022-11-23T05:55:39.118969Z",
     "iopub.status.idle": "2022-11-23T05:55:42.262745Z",
     "shell.execute_reply": "2022-11-23T05:55:42.261140Z",
     "shell.execute_reply.started": "2022-11-23T05:55:39.119315Z"
    },
    "trusted": true
   },
   "outputs": [
    {
     "name": "stderr",
     "output_type": "stream",
     "text": [
      "D:\\anaconda\\anaconda_2021.11-Install\\lib\\site-packages\\sklearn\\linear_model\\_logistic.py:814: ConvergenceWarning: lbfgs failed to converge (status=1):\n",
      "STOP: TOTAL NO. of ITERATIONS REACHED LIMIT.\n",
      "\n",
      "Increase the number of iterations (max_iter) or scale the data as shown in:\n",
      "    https://scikit-learn.org/stable/modules/preprocessing.html\n",
      "Please also refer to the documentation for alternative solver options:\n",
      "    https://scikit-learn.org/stable/modules/linear_model.html#logistic-regression\n",
      "  n_iter_i = _check_optimize_result(\n"
     ]
    }
   ],
   "source": [
    "lr_model = LogisticRegression(multi_class=\"multinomial\").fit(X_train, Y_train)\n",
    "lr_predictions = lr_model.predict(X_train)"
   ]
  },
  {
   "cell_type": "code",
   "execution_count": 48,
   "metadata": {
    "execution": {
     "iopub.execute_input": "2022-11-23T05:55:42.266481Z",
     "iopub.status.busy": "2022-11-23T05:55:42.265281Z",
     "iopub.status.idle": "2022-11-23T05:55:42.814128Z",
     "shell.execute_reply": "2022-11-23T05:55:42.813142Z",
     "shell.execute_reply.started": "2022-11-23T05:55:42.266415Z"
    },
    "trusted": true
   },
   "outputs": [
    {
     "name": "stdout",
     "output_type": "stream",
     "text": [
      "              precision    recall  f1-score   support\n",
      "\n",
      "    aquarius       0.13      0.07      0.09       968\n",
      "       aries       0.12      0.10      0.11       983\n",
      "      cancer       0.13      0.24      0.17      1129\n",
      "   capricorn       0.14      0.05      0.07       882\n",
      "      gemini       0.12      0.15      0.13      1130\n",
      "         leo       0.12      0.19      0.15      1121\n",
      "       libra       0.11      0.08      0.09      1028\n",
      "      pisces       0.11      0.09      0.10       997\n",
      " sagittarius       0.13      0.09      0.11       965\n",
      "     scorpio       0.14      0.05      0.08      1001\n",
      "      taurus       0.13      0.12      0.12      1045\n",
      "       virgo       0.12      0.21      0.15      1090\n",
      "\n",
      "    accuracy                           0.12     12339\n",
      "   macro avg       0.12      0.12      0.11     12339\n",
      "weighted avg       0.12      0.12      0.12     12339\n",
      "\n"
     ]
    }
   ],
   "source": [
    "print(classification_report(Y_train, lr_predictions))"
   ]
  },
  {
   "cell_type": "markdown",
   "metadata": {},
   "source": [
    "12% accuracy is too low for this model even we conduct the evaluation on the training set.\n",
    "\n",
    "We evaluate on test set"
   ]
  },
  {
   "cell_type": "code",
   "execution_count": 49,
   "metadata": {
    "execution": {
     "iopub.execute_input": "2022-11-23T05:55:42.816617Z",
     "iopub.status.busy": "2022-11-23T05:55:42.815836Z",
     "iopub.status.idle": "2022-11-23T05:55:43.043812Z",
     "shell.execute_reply": "2022-11-23T05:55:43.042921Z",
     "shell.execute_reply.started": "2022-11-23T05:55:42.816570Z"
    },
    "trusted": true
   },
   "outputs": [
    {
     "name": "stdout",
     "output_type": "stream",
     "text": [
      "              precision    recall  f1-score   support\n",
      "\n",
      "    aquarius       0.07      0.04      0.05       294\n",
      "       aries       0.07      0.06      0.06       345\n",
      "      cancer       0.09      0.21      0.13       328\n",
      "   capricorn       0.14      0.04      0.07       315\n",
      "      gemini       0.08      0.10      0.09       366\n",
      "         leo       0.09      0.14      0.11       395\n",
      "       libra       0.07      0.05      0.06       326\n",
      "      pisces       0.11      0.09      0.10       337\n",
      " sagittarius       0.08      0.05      0.06       347\n",
      "     scorpio       0.07      0.02      0.03       355\n",
      "      taurus       0.08      0.08      0.08       345\n",
      "       virgo       0.09      0.14      0.11       361\n",
      "\n",
      "    accuracy                           0.09      4114\n",
      "   macro avg       0.09      0.09      0.08      4114\n",
      "weighted avg       0.09      0.09      0.08      4114\n",
      "\n"
     ]
    }
   ],
   "source": [
    "print(classification_report(Y_val, lr_model.predict(X_val)))"
   ]
  },
  {
   "cell_type": "markdown",
   "metadata": {},
   "source": [
    "The accuracy is only 0.09 on test set which is terrible considering a random guess should result in being correct ~8% of the time (1/12)."
   ]
  },
  {
   "cell_type": "markdown",
   "metadata": {},
   "source": [
    "\n",
    "\n",
    "### KNN\n",
    "\n",
    "We select k=5 for the model. We can adjust the k value when needed"
   ]
  },
  {
   "cell_type": "code",
   "execution_count": null,
   "metadata": {
    "execution": {
     "iopub.execute_input": "2022-11-23T05:55:43.045919Z",
     "iopub.status.busy": "2022-11-23T05:55:43.045154Z",
     "iopub.status.idle": "2022-11-23T05:55:46.720392Z",
     "shell.execute_reply": "2022-11-23T05:55:46.719116Z",
     "shell.execute_reply.started": "2022-11-23T05:55:43.045862Z"
    },
    "trusted": true,
    "pycharm": {
     "is_executing": true
    }
   },
   "outputs": [],
   "source": [
    "knn_model = KNeighborsClassifier(n_neighbors = 5).fit(X_train, Y_train)\n",
    "knn_predictions = knn_model.predict(X_train)"
   ]
  },
  {
   "cell_type": "code",
   "execution_count": null,
   "metadata": {
    "execution": {
     "iopub.execute_input": "2022-11-23T05:55:46.723583Z",
     "iopub.status.busy": "2022-11-23T05:55:46.723188Z",
     "iopub.status.idle": "2022-11-23T05:55:47.190080Z",
     "shell.execute_reply": "2022-11-23T05:55:47.188769Z",
     "shell.execute_reply.started": "2022-11-23T05:55:46.723548Z"
    },
    "trusted": true,
    "pycharm": {
     "is_executing": true
    }
   },
   "outputs": [],
   "source": [
    "print(classification_report(Y_train, knn_predictions))"
   ]
  },
  {
   "cell_type": "markdown",
   "metadata": {},
   "source": [
    "The model has 0.33 accuracy which performs better than random guessing. However, it is not a good sign because we currently use training set as test set. "
   ]
  },
  {
   "cell_type": "code",
   "execution_count": null,
   "metadata": {
    "execution": {
     "iopub.execute_input": "2022-11-23T05:55:47.191769Z",
     "iopub.status.busy": "2022-11-23T05:55:47.191395Z",
     "iopub.status.idle": "2022-11-23T05:55:48.494461Z",
     "shell.execute_reply": "2022-11-23T05:55:48.493293Z",
     "shell.execute_reply.started": "2022-11-23T05:55:47.191723Z"
    },
    "trusted": true,
    "pycharm": {
     "is_executing": true
    }
   },
   "outputs": [],
   "source": [
    "print(classification_report(Y_val, knn_model.predict(X_val)))"
   ]
  },
  {
   "cell_type": "markdown",
   "metadata": {},
   "source": [
    "knn with k=5 does not perform better than lr_model on test set. \n",
    "\n",
    "We can try different k value to see if we can improve the model"
   ]
  },
  {
   "cell_type": "code",
   "execution_count": null,
   "metadata": {
    "execution": {
     "iopub.execute_input": "2022-11-23T05:55:48.496495Z",
     "iopub.status.busy": "2022-11-23T05:55:48.496039Z",
     "iopub.status.idle": "2022-11-23T05:57:51.001228Z",
     "shell.execute_reply": "2022-11-23T05:57:50.999803Z",
     "shell.execute_reply.started": "2022-11-23T05:55:48.496452Z"
    },
    "trusted": true,
    "pycharm": {
     "is_executing": true
    }
   },
   "outputs": [],
   "source": [
    "accuracies=list()\n",
    "for k in range(1,101):\n",
    "    classifier=KNeighborsClassifier(n_neighbors=k)\n",
    "    classifier.fit(X_train, Y_train)\n",
    "    accuracies.append(classifier.score(X_val, Y_val))\n",
    "\n",
    "k_list= range(1,101)\n",
    "plt.plot(k_list,accuracies)\n",
    "plt.title(\"Classifier Accuracy\")\n",
    "plt.show()"
   ]
  },
  {
   "cell_type": "markdown",
   "metadata": {},
   "source": [
    "The best accuracy the model can achieve on test set is up to 0.0975.\n",
    "\n",
    "### Decision Trees\n"
   ]
  },
  {
   "cell_type": "code",
   "execution_count": null,
   "metadata": {
    "execution": {
     "iopub.execute_input": "2022-11-23T05:57:51.004020Z",
     "iopub.status.busy": "2022-11-23T05:57:51.002898Z",
     "iopub.status.idle": "2022-11-23T05:57:51.669637Z",
     "shell.execute_reply": "2022-11-23T05:57:51.668667Z",
     "shell.execute_reply.started": "2022-11-23T05:57:51.003975Z"
    },
    "trusted": true,
    "pycharm": {
     "is_executing": true
    }
   },
   "outputs": [],
   "source": [
    "cart_model = DecisionTreeClassifier().fit(X_train, Y_train) \n",
    "print(classification_report(Y_train,cart_model.predict(X_train)))"
   ]
  },
  {
   "cell_type": "markdown",
   "metadata": {},
   "source": [
    "the accuracy is promising. However, overfitting may happen since we evaluate model on training set"
   ]
  },
  {
   "cell_type": "code",
   "execution_count": null,
   "metadata": {
    "execution": {
     "iopub.execute_input": "2022-11-23T05:57:51.671816Z",
     "iopub.status.busy": "2022-11-23T05:57:51.670725Z",
     "iopub.status.idle": "2022-11-23T05:57:51.811955Z",
     "shell.execute_reply": "2022-11-23T05:57:51.810603Z",
     "shell.execute_reply.started": "2022-11-23T05:57:51.671773Z"
    },
    "trusted": true,
    "pycharm": {
     "is_executing": true
    }
   },
   "outputs": [],
   "source": [
    "print(classification_report(Y_val,cart_model.predict(X_val)))"
   ]
  },
  {
   "cell_type": "markdown",
   "metadata": {},
   "source": [
    "We can see decision tree does not perform bettern than other model in test set."
   ]
  },
  {
   "cell_type": "code",
   "execution_count": null,
   "metadata": {
    "execution": {
     "iopub.execute_input": "2022-11-23T05:57:51.816156Z",
     "iopub.status.busy": "2022-11-23T05:57:51.815792Z",
     "iopub.status.idle": "2022-11-23T05:57:51.823352Z",
     "shell.execute_reply": "2022-11-23T05:57:51.821790Z",
     "shell.execute_reply.started": "2022-11-23T05:57:51.816126Z"
    },
    "trusted": true,
    "pycharm": {
     "is_executing": true
    }
   },
   "outputs": [],
   "source": [
    "cart_model.get_depth()"
   ]
  },
  {
   "cell_type": "markdown",
   "metadata": {},
   "source": [
    "It shows that this tree model as a depth of 49, therefore it overfits the training set. "
   ]
  },
  {
   "cell_type": "code",
   "execution_count": null,
   "metadata": {
    "execution": {
     "iopub.execute_input": "2022-11-23T05:57:51.825589Z",
     "iopub.status.busy": "2022-11-23T05:57:51.824698Z",
     "iopub.status.idle": "2022-11-23T05:57:58.061813Z",
     "shell.execute_reply": "2022-11-23T05:57:58.060500Z",
     "shell.execute_reply.started": "2022-11-23T05:57:51.825517Z"
    },
    "trusted": true,
    "pycharm": {
     "is_executing": true
    }
   },
   "outputs": [],
   "source": [
    "accuracies=list()\n",
    "for k in range(1,50):\n",
    "    classifier=DecisionTreeClassifier(max_depth=k)\n",
    "    classifier.fit(X_train, Y_train)\n",
    "    accuracies.append(classifier.score(X_val, Y_val))\n",
    "\n",
    "k_list= range(1,50)\n",
    "plt.plot(k_list,accuracies)\n",
    "plt.title(\"Classifier Accuracy\")\n",
    "plt.show()"
   ]
  },
  {
   "cell_type": "code",
   "execution_count": null,
   "metadata": {
    "execution": {
     "iopub.execute_input": "2022-11-23T05:57:58.065366Z",
     "iopub.status.busy": "2022-11-23T05:57:58.064511Z",
     "iopub.status.idle": "2022-11-23T05:57:58.073405Z",
     "shell.execute_reply": "2022-11-23T05:57:58.072126Z",
     "shell.execute_reply.started": "2022-11-23T05:57:58.065318Z"
    },
    "trusted": true,
    "pycharm": {
     "is_executing": true
    }
   },
   "outputs": [],
   "source": [
    "max_value = max(accuracies)\n",
    "index = accuracies.index(max_value)\n",
    "print(index)\n",
    "print(max_value)"
   ]
  },
  {
   "cell_type": "markdown",
   "metadata": {},
   "source": [
    "THe highest accuracy is 0.095 when max_depth=13."
   ]
  },
  {
   "cell_type": "markdown",
   "metadata": {},
   "source": [
    "### Random Forest"
   ]
  },
  {
   "cell_type": "code",
   "execution_count": null,
   "metadata": {
    "execution": {
     "iopub.execute_input": "2022-11-23T05:57:58.075991Z",
     "iopub.status.busy": "2022-11-23T05:57:58.075496Z",
     "iopub.status.idle": "2022-11-23T05:58:00.274229Z",
     "shell.execute_reply": "2022-11-23T05:58:00.272845Z",
     "shell.execute_reply.started": "2022-11-23T05:57:58.075946Z"
    },
    "trusted": true,
    "pycharm": {
     "is_executing": true
    }
   },
   "outputs": [],
   "source": [
    "rf_classifier = RandomForestClassifier(n_estimators = 50)\n",
    "rf_classifier.fit(X_train,Y_train)\n",
    "print(classification_report(Y_train,rf_classifier.predict(X_train)))"
   ]
  },
  {
   "cell_type": "markdown",
   "metadata": {},
   "source": [
    "rf_classifier can achieve 0.78 accuracy on training set which is promising"
   ]
  },
  {
   "cell_type": "code",
   "execution_count": null,
   "metadata": {
    "execution": {
     "iopub.execute_input": "2022-11-23T05:58:00.275893Z",
     "iopub.status.busy": "2022-11-23T05:58:00.275539Z",
     "iopub.status.idle": "2022-11-23T05:58:00.509543Z",
     "shell.execute_reply": "2022-11-23T05:58:00.508183Z",
     "shell.execute_reply.started": "2022-11-23T05:58:00.275863Z"
    },
    "trusted": true,
    "pycharm": {
     "is_executing": true
    }
   },
   "outputs": [],
   "source": [
    "print(classification_report(Y_val,rf_classifier.predict(X_val)))"
   ]
  },
  {
   "cell_type": "markdown",
   "metadata": {},
   "source": [
    "Random Forest performs no better than previous models on test set :(\n",
    "\n",
    "### Final model\n",
    "\n",
    "All model we have tried above has similar performance on the test set. Howeover, based on the test of the training set, the final model should be `rf_classifier` model."
   ]
  },
  {
   "cell_type": "code",
   "execution_count": null,
   "metadata": {
    "execution": {
     "iopub.execute_input": "2022-11-23T07:45:13.716470Z",
     "iopub.status.busy": "2022-11-23T07:45:13.716024Z",
     "iopub.status.idle": "2022-11-23T07:45:14.835901Z",
     "shell.execute_reply": "2022-11-23T07:45:14.835023Z",
     "shell.execute_reply.started": "2022-11-23T07:45:13.716433Z"
    },
    "trusted": true,
    "pycharm": {
     "is_executing": true
    }
   },
   "outputs": [],
   "source": [
    "from sklearn.metrics import confusion_matrix \n",
    "\n",
    "final_cm = confusion_matrix(Y_val, rf_classifier.predict(X_val))\n",
    "rf_labels = rf_classifier.classes_\n",
    "\n",
    "plt.figure(figsize=(10,7))\n",
    "\n",
    "ax= plt.subplot()\n",
    "sns.heatmap(final_cm, annot=True, ax = ax, fmt=\"d\");\n",
    "\n",
    "# labels, title and ticks\n",
    "ax.set_xlabel('Predicted labels');\n",
    "ax.set_ylabel('True labels'); \n",
    "ax.set_title('Confusion Matrix');\n",
    "ax.yaxis.set_tick_params(rotation=360)\n",
    "ax.xaxis.set_tick_params(rotation=90)\n",
    "\n",
    "ax.xaxis.set_ticklabels(rf_labels); \n",
    "ax.yaxis.set_ticklabels(rf_labels);"
   ]
  },
  {
   "cell_type": "markdown",
   "metadata": {},
   "source": [
    "In the confusion matrix, it becomes clear that Cancer, Leo, Pisces and virgo was predicted most often, but the model still does not perform well because diagonal of matrix has the dark color mostly.\n",
    "\n",
    "Seems these features are not good to predict the sign"
   ]
  },
  {
   "cell_type": "markdown",
   "metadata": {},
   "source": [
    "Idea: How about using essays to predict the sign. My ideas are combined all the essay to create a MB model. use Beautyful Soup I think to clean the "
   ]
  },
  {
   "cell_type": "code",
   "execution_count": null,
   "metadata": {
    "pycharm": {
     "is_executing": true
    }
   },
   "outputs": [],
   "source": [
    "print(profiles.essay1[0])\n",
    "print(profiles.essay1[1])\n",
    "print(profiles.essay1[2])\n"
   ]
  },
  {
   "cell_type": "markdown",
   "metadata": {},
   "source": [
    "I realized that there are some html mark in the answers. The Data is not clean. I can use BeautifulSoup or lxml.html"
   ]
  },
  {
   "cell_type": "code",
   "execution_count": null,
   "metadata": {
    "pycharm": {
     "is_executing": true
    }
   },
   "outputs": [],
   "source": [
    "from bs4 import BeautifulSoup\n",
    "soup= BeautifulSoup(profiles.essay1[0],\"html.parser\")\n",
    "type(soup)"
   ]
  },
  {
   "cell_type": "code",
   "execution_count": null,
   "metadata": {
    "pycharm": {
     "is_executing": true
    }
   },
   "outputs": [],
   "source": [
    "soup.get_text().strip()"
   ]
  },
  {
   "cell_type": "code",
   "execution_count": null,
   "metadata": {
    "pycharm": {
     "is_executing": true
    }
   },
   "outputs": [],
   "source": [
    "str = soup.get_text()\n",
    "print(str)"
   ]
  },
  {
   "attachments": {},
   "cell_type": "markdown",
   "metadata": {},
   "source": [
    "Now we create a copy of the original DataFrame and select all the essay column and the signsCleaned"
   ]
  },
  {
   "cell_type": "code",
   "execution_count": null,
   "metadata": {
    "pycharm": {
     "is_executing": true
    }
   },
   "outputs": [],
   "source": [
    "nb_profiles=profiles.copy()\n",
    "nb_profiles= nb_profiles[[\"essay0\",\"essay1\",\"essay2\",\"essay3\",\"essay4\",\"essay5\",\"essay6\",\"essay7\",\"essay8\",\"essay9\",\"signsCleaned\"]]"
   ]
  },
  {
   "cell_type": "code",
   "execution_count": null,
   "metadata": {
    "pycharm": {
     "is_executing": true
    }
   },
   "outputs": [],
   "source": [
    "nb_profiles.signsCleaned.value_counts(dropna=False)"
   ]
  },
  {
   "cell_type": "code",
   "execution_count": null,
   "metadata": {
    "pycharm": {
     "is_executing": true
    }
   },
   "outputs": [],
   "source": [
    "nb_profiles.fillna(\" \", inplace=True)\n",
    "nb_profiles.signsCleaned.replace(\" \", np.nan, inplace=True)\n",
    "nb_profiles.signsCleaned.value_counts(dropna=False)"
   ]
  },
  {
   "cell_type": "code",
   "execution_count": null,
   "metadata": {
    "pycharm": {
     "is_executing": true
    }
   },
   "outputs": [],
   "source": [
    "len(nb_profiles)-nb_profiles.signsCleaned.isna().sum()"
   ]
  },
  {
   "cell_type": "code",
   "execution_count": null,
   "metadata": {
    "pycharm": {
     "is_executing": true
    }
   },
   "outputs": [],
   "source": [
    "nb_profiles.dropna(inplace=True)\n",
    "len(nb_profiles)"
   ]
  },
  {
   "cell_type": "code",
   "execution_count": null,
   "metadata": {
    "pycharm": {
     "is_executing": true
    }
   },
   "outputs": [],
   "source": [
    "nb_profiles[\"all_essays\"] = nb_profiles[\"essay0\"] + nb_profiles[\"essay1\"] + nb_profiles[\"essay2\"] + nb_profiles[\"essay3\"] + nb_profiles[\"essay4\"] + nb_profiles[\"essay5\"] + nb_profiles[\"essay6\"] + nb_profiles[\"essay7\"] + nb_profiles[\"essay8\"] + nb_profiles[\"essay9\"]"
   ]
  },
  {
   "cell_type": "code",
   "execution_count": null,
   "metadata": {
    "pycharm": {
     "is_executing": true
    }
   },
   "outputs": [],
   "source": [
    "from bs4 import BeautifulSoup\n",
    "nb_profiles[\"all_essays\"]=nb_profiles[\"all_essays\"].apply(lambda x: BeautifulSoup(x,\"html.parser\").get_text().strip())"
   ]
  },
  {
   "cell_type": "code",
   "execution_count": null,
   "metadata": {
    "pycharm": {
     "is_executing": true
    }
   },
   "outputs": [],
   "source": [
    "nb_profiles[\"all_essays\"][0]"
   ]
  },
  {
   "cell_type": "code",
   "execution_count": null,
   "metadata": {
    "pycharm": {
     "is_executing": true
    }
   },
   "outputs": [],
   "source": [
    "#Y is the target column, X has the rest\n",
    "X= nb_profiles[\"all_essays\"]\n",
    "Y= nb_profiles[\"signsCleaned\"]\n",
    "train_data, test_data, train_labels, test_labels = train_test_split(X, Y, test_size=0.2) "
   ]
  },
  {
   "cell_type": "code",
   "execution_count": null,
   "metadata": {
    "pycharm": {
     "is_executing": true
    }
   },
   "outputs": [],
   "source": [
    "from sklearn.feature_extraction.text import CountVectorizer\n",
    "from sklearn.naive_bayes import MultinomialNB\n",
    "\n",
    "vectorizer= CountVectorizer()\n",
    "train_counts=vectorizer.fit_transform(train_data)\n",
    "classifier = MultinomialNB()\n",
    "classifier.fit(train_counts, train_labels)\n",
    "\n",
    "test_vectors= vectorizer.transform(test_data)\n"
   ]
  },
  {
   "cell_type": "code",
   "execution_count": null,
   "metadata": {
    "pycharm": {
     "is_executing": true
    }
   },
   "outputs": [],
   "source": [
    "print(classification_report(test_labels, classifier.predict(test_vectors)))\n"
   ]
  },
  {
   "attachments": {},
   "cell_type": "markdown",
   "metadata": {},
   "source": [
    "We can see that the model is not very accurate. This is because the dataset is very small and the model is not very complex. We can try to improve the model by using a more complex model, or by using a larger dataset.\n",
    "Moreover, we can see that the star sign is hard to predict by how users write their answer or some attributes such as body type, orientation, or pets\n",
    "\n",
    "It turns out that neither lifestyle aspects nor essay language are reliable indicators of a user's star sign."
   ]
  },
  {
   "cell_type": "markdown",
   "source": [
    "## Predict the user's gender based on user's writting"
   ],
   "metadata": {
    "collapsed": false
   }
  },
  {
   "cell_type": "code",
   "execution_count": null,
   "outputs": [],
   "source": [
    "gender_nb_profiles= profiles.copy()\n",
    "gender_nb_profiles= gender_nb_profiles[[\"essay0\",\"essay1\",\"essay2\",\"essay3\",\"essay4\",\"essay5\",\"essay6\",\"essay7\",\"essay8\",\"essay9\",\"sex\"]]"
   ],
   "metadata": {
    "collapsed": false,
    "pycharm": {
     "name": "#%%\n",
     "is_executing": true
    }
   }
  },
  {
   "cell_type": "code",
   "execution_count": null,
   "outputs": [],
   "source": [
    "gender_nb_profiles[\"all_essays\"] = gender_nb_profiles[\"essay0\"] + gender_nb_profiles[\"essay1\"] + gender_nb_profiles[\"essay2\"] + gender_nb_profiles[\"essay3\"] + gender_nb_profiles[\"essay4\"] + gender_nb_profiles[\"essay5\"] + gender_nb_profiles[\"essay6\"] + gender_nb_profiles[\"essay7\"] + gender_nb_profiles[\"essay8\"] + gender_nb_profiles[\"essay9\"]"
   ],
   "metadata": {
    "collapsed": false,
    "pycharm": {
     "name": "#%%\n",
     "is_executing": true
    }
   }
  },
  {
   "cell_type": "code",
   "execution_count": null,
   "outputs": [],
   "source": [
    "gender_nb_profiles.fillna(\" \", inplace=True)\n",
    "gender_nb_profiles[\"all_essays\"]=gender_nb_profiles[\"all_essays\"].apply(lambda x: BeautifulSoup(x,\"html.parser\").get_text().strip())"
   ],
   "metadata": {
    "collapsed": false,
    "pycharm": {
     "name": "#%%\n",
     "is_executing": true
    }
   }
  },
  {
   "cell_type": "code",
   "execution_count": null,
   "outputs": [],
   "source": [
    "gender_nb_profiles[\"all_essays\"][0]"
   ],
   "metadata": {
    "collapsed": false,
    "pycharm": {
     "name": "#%%\n",
     "is_executing": true
    }
   }
  },
  {
   "cell_type": "code",
   "execution_count": null,
   "outputs": [],
   "source": [
    "#Y is the target column, X has the rest\n",
    "X= gender_nb_profiles[\"all_essays\"]\n",
    "Y= gender_nb_profiles[\"sex\"]\n",
    "train_data, test_data, train_labels, test_labels = train_test_split(X, Y, test_size=0.2)"
   ],
   "metadata": {
    "collapsed": false,
    "pycharm": {
     "name": "#%%\n",
     "is_executing": true
    }
   }
  },
  {
   "cell_type": "code",
   "execution_count": null,
   "outputs": [],
   "source": [
    "vectorizer= CountVectorizer()\n",
    "train_counts=vectorizer.fit_transform(train_data)\n",
    "classifier = MultinomialNB()\n",
    "classifier.fit(train_counts, train_labels)\n",
    "\n",
    "test_vectors= vectorizer.transform(test_data)"
   ],
   "metadata": {
    "collapsed": false,
    "pycharm": {
     "name": "#%%\n",
     "is_executing": true
    }
   }
  },
  {
   "cell_type": "code",
   "execution_count": null,
   "outputs": [],
   "source": [
    "print(classification_report(test_labels, classifier.predict(test_vectors)))"
   ],
   "metadata": {
    "collapsed": false,
    "pycharm": {
     "name": "#%%\n",
     "is_executing": true
    }
   }
  },
  {
   "cell_type": "markdown",
   "source": [
    "We can see that the model predict the gender quite well. Especially in case we need to determine male as much as possible since the recall for male is high (0.90)"
   ],
   "metadata": {
    "collapsed": false
   }
  },
  {
   "cell_type": "code",
   "execution_count": null,
   "outputs": [],
   "source": [
    "profiles.pets.value_counts()"
   ],
   "metadata": {
    "collapsed": false,
    "pycharm": {
     "name": "#%%\n",
     "is_executing": true
    }
   }
  },
  {
   "cell_type": "markdown",
   "source": [
    "# Conclusion\n",
    "The astrological signs of OkCupid users were predicted in this experiment using machine learning. The potential of this model is when making matches, an automated approach may have created a sign to impute missing data if users don't enter their signs. Unfortunately, the model has a bad performance.\n",
    "\n",
    "This project also covers the gender prediction based on what the users write.\n",
    "# Next steps\n",
    "We should consider what we can do more with data.We can determine to adjust the hyperparameters of the existing models to see if the algorithms can provide any more predictive powers"
   ],
   "metadata": {
    "collapsed": false,
    "pycharm": {
     "name": "#%% md\n"
    }
   }
  }
 ],
 "metadata": {
  "kernelspec": {
   "display_name": "Python 3.9.7 ('base')",
   "language": "python",
   "name": "python3"
  },
  "language_info": {
   "codemirror_mode": {
    "name": "ipython",
    "version": 3
   },
   "file_extension": ".py",
   "mimetype": "text/x-python",
   "name": "python",
   "nbconvert_exporter": "python",
   "pygments_lexer": "ipython3",
   "version": "3.9.7 (default, Sep 16 2021, 16:59:28) [MSC v.1916 64 bit (AMD64)]"
  },
  "vscode": {
   "interpreter": {
    "hash": "521cb90cc056e42deeeebd62c243fa84ad8ec133886c456f13f123519fb009da"
   }
  }
 },
 "nbformat": 4,
 "nbformat_minor": 4
}