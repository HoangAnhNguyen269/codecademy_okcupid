{
 "cells": [
  {
   "cell_type": "markdown",
   "metadata": {},
   "source": [
    "# Introduction\n",
    "\n",
    "In recent years, the demand for dating apps has increased. These apps provide a huge amount of data about how people experience online romance.\n",
    "\n",
    "This project gets data from an online dating app, OKCupid, to find some interesting patterns about the online dating app community as well as create some models that may help in the matching services of the OKCupid app.\n",
    "\n",
    "# Scoping\n",
    "\n",
    "## Project Goals\n",
    "The objective of this project is to use the knowledge gained from Codecademy and apply machine learning methods to a set of data. From there, some interesting patterns and models can be investigated.\n",
    "\n",
    "Questions that will be answered in this report include:\n",
    "\n",
    "## Data\n",
    "The data is stored in `profiles.csv` provided by Codecademy. Each row in the dataset equivalents to an user, and each column represents the responses to their user profiles which include multi-choice and short answer questions.\n",
    "\n",
    "## Analysis\n",
    "First, the project will use some data manipulation, data wrangling and data tidying methods to clean the data for the next steps. Then, summary statistics are applied to find some interesting patterns in side the data. Some visualizations of data will be shown in this report which gives a better representation of patterns. Some classcification and clusterings algorithms will be implemented\n",
    "\n",
    "## Evaluation\n",
    "\n",
    "A validation data set will be taken from the original data set for evaluation task of this project. The model can be evaluated through confusion matrix, or N-fold cross-validation. Some metrics such as accuracy, precision, recall, F1 \n"
   ]
  },
  {
   "cell_type": "code",
   "execution_count": null,
   "metadata": {},
   "outputs": [],
   "source": []
  },
  {
   "cell_type": "markdown",
   "metadata": {},
   "source": [
    "#"
   ]
  },
  {
   "cell_type": "code",
   "execution_count": 2,
   "metadata": {},
   "outputs": [
    {
     "name": "stdout",
     "output_type": "stream",
     "text": [
      "[[-1.22474487 -1.22474487 -1.22474487]\n",
      " [ 0.          0.          0.        ]\n",
      " [ 1.22474487  1.22474487  1.22474487]]\n"
     ]
    }
   ],
   "source": []
  }
 ],
 "metadata": {
  "kernelspec": {
   "display_name": "Python 3.9.7 ('base')",
   "language": "python",
   "name": "python3"
  },
  "language_info": {
   "codemirror_mode": {
    "name": "ipython",
    "version": 3
   },
   "file_extension": ".py",
   "mimetype": "text/x-python",
   "name": "python",
   "nbconvert_exporter": "python",
   "pygments_lexer": "ipython3",
   "version": "3.9.7"
  },
  "vscode": {
   "interpreter": {
    "hash": "521cb90cc056e42deeeebd62c243fa84ad8ec133886c456f13f123519fb009da"
   }
  }
 },
 "nbformat": 4,
 "nbformat_minor": 4
}
